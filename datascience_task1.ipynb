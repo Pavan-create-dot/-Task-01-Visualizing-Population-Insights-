{
 "cells": [
  {
   "cell_type": "code",
   "execution_count": 1,
   "metadata": {},
   "outputs": [
    {
     "name": "stdout",
     "output_type": "stream",
     "text": [
      "Requirement already satisfied: pandas in c:\\users\\mutya\\appdata\\local\\programs\\python\\python313\\lib\\site-packages (2.2.3)\n",
      "Requirement already satisfied: plotly in c:\\users\\mutya\\appdata\\local\\programs\\python\\python313\\lib\\site-packages (5.24.1)\n",
      "Requirement already satisfied: numpy>=1.26.0 in c:\\users\\mutya\\appdata\\local\\programs\\python\\python313\\lib\\site-packages (from pandas) (2.2.1)\n",
      "Requirement already satisfied: python-dateutil>=2.8.2 in c:\\users\\mutya\\appdata\\roaming\\python\\python313\\site-packages (from pandas) (2.9.0.post0)\n",
      "Requirement already satisfied: pytz>=2020.1 in c:\\users\\mutya\\appdata\\local\\programs\\python\\python313\\lib\\site-packages (from pandas) (2024.2)\n",
      "Requirement already satisfied: tzdata>=2022.7 in c:\\users\\mutya\\appdata\\local\\programs\\python\\python313\\lib\\site-packages (from pandas) (2024.2)\n",
      "Requirement already satisfied: tenacity>=6.2.0 in c:\\users\\mutya\\appdata\\local\\programs\\python\\python313\\lib\\site-packages (from plotly) (9.0.0)\n",
      "Requirement already satisfied: packaging in c:\\users\\mutya\\appdata\\roaming\\python\\python313\\site-packages (from plotly) (24.2)\n",
      "Requirement already satisfied: six>=1.5 in c:\\users\\mutya\\appdata\\roaming\\python\\python313\\site-packages (from python-dateutil>=2.8.2->pandas) (1.17.0)\n"
     ]
    }
   ],
   "source": [
    "!pip install pandas plotly"
   ]
  },
  {
   "cell_type": "code",
   "execution_count": null,
   "metadata": {},
   "outputs": [],
   "source": [
    "#importing libraries\n",
    "\n",
    "import pandas as pd\n",
    "import plotly.graph_objects as go"
   ]
  },
  {
   "cell_type": "code",
   "execution_count": 3,
   "metadata": {},
   "outputs": [],
   "source": [
    "# Load and clean data\n",
    "df = pd.read_csv(r\"C:\\\\Users\\\\mutya\\\\OneDrive\\\\Desktop\\\\PYTHON\\\\population_data.csv\", skiprows=4)\n",
    "df = df.rename(columns={'Country Name': 'Country', 'Indicator Name': 'Indicator'})"
   ]
  },
  {
   "cell_type": "code",
   "execution_count": 4,
   "metadata": {},
   "outputs": [
    {
     "name": "stderr",
     "output_type": "stream",
     "text": [
      "C:\\Users\\mutya\\AppData\\Local\\Temp\\ipykernel_29052\\4006032719.py:1: FutureWarning: DataFrame.fillna with 'method' is deprecated and will raise in a future version. Use obj.ffill() or obj.bfill() instead.\n",
      "  population_df = df[df['Indicator'] == 'Population, total'].set_index('Country').loc[:, map(str, range(1960, 2024))].fillna(method='ffill').fillna(0)\n"
     ]
    }
   ],
   "source": [
    "population_df = df[df['Indicator'] == 'Population, total'].set_index('Country').loc[:, map(str, range(1960, 2024))].fillna(method='ffill').fillna(0)"
   ]
  },
  {
   "cell_type": "code",
   "execution_count": 5,
   "metadata": {},
   "outputs": [
    {
     "data": {
      "text/html": [
       "<div>\n",
       "<style scoped>\n",
       "    .dataframe tbody tr th:only-of-type {\n",
       "        vertical-align: middle;\n",
       "    }\n",
       "\n",
       "    .dataframe tbody tr th {\n",
       "        vertical-align: top;\n",
       "    }\n",
       "\n",
       "    .dataframe thead th {\n",
       "        text-align: right;\n",
       "    }\n",
       "</style>\n",
       "<table border=\"1\" class=\"dataframe\">\n",
       "  <thead>\n",
       "    <tr style=\"text-align: right;\">\n",
       "      <th></th>\n",
       "      <th>Country</th>\n",
       "      <th>Country Code</th>\n",
       "      <th>Indicator</th>\n",
       "      <th>Indicator Code</th>\n",
       "      <th>1960</th>\n",
       "      <th>1961</th>\n",
       "      <th>1962</th>\n",
       "      <th>1963</th>\n",
       "      <th>1964</th>\n",
       "      <th>1965</th>\n",
       "      <th>...</th>\n",
       "      <th>2014</th>\n",
       "      <th>2015</th>\n",
       "      <th>2016</th>\n",
       "      <th>2017</th>\n",
       "      <th>2018</th>\n",
       "      <th>2019</th>\n",
       "      <th>2020</th>\n",
       "      <th>2021</th>\n",
       "      <th>2022</th>\n",
       "      <th>2023</th>\n",
       "    </tr>\n",
       "  </thead>\n",
       "  <tbody>\n",
       "    <tr>\n",
       "      <th>0</th>\n",
       "      <td>Aruba</td>\n",
       "      <td>ABW</td>\n",
       "      <td>Population, total</td>\n",
       "      <td>SP.POP.TOTL</td>\n",
       "      <td>54608.0</td>\n",
       "      <td>55811.0</td>\n",
       "      <td>56682.0</td>\n",
       "      <td>57475.0</td>\n",
       "      <td>58178.0</td>\n",
       "      <td>58782.0</td>\n",
       "      <td>...</td>\n",
       "      <td>103594.0</td>\n",
       "      <td>104257.0</td>\n",
       "      <td>104874.0</td>\n",
       "      <td>105439.0</td>\n",
       "      <td>105962.0</td>\n",
       "      <td>106442.0</td>\n",
       "      <td>106585.0</td>\n",
       "      <td>106537.0</td>\n",
       "      <td>106445.0</td>\n",
       "      <td>106277.0</td>\n",
       "    </tr>\n",
       "    <tr>\n",
       "      <th>1</th>\n",
       "      <td>Africa Eastern and Southern</td>\n",
       "      <td>AFE</td>\n",
       "      <td>Population, total</td>\n",
       "      <td>SP.POP.TOTL</td>\n",
       "      <td>130692579.0</td>\n",
       "      <td>134169237.0</td>\n",
       "      <td>137835590.0</td>\n",
       "      <td>141630546.0</td>\n",
       "      <td>145605995.0</td>\n",
       "      <td>149742351.0</td>\n",
       "      <td>...</td>\n",
       "      <td>583651101.0</td>\n",
       "      <td>600008424.0</td>\n",
       "      <td>616377605.0</td>\n",
       "      <td>632746570.0</td>\n",
       "      <td>649757148.0</td>\n",
       "      <td>667242986.0</td>\n",
       "      <td>685112979.0</td>\n",
       "      <td>702977106.0</td>\n",
       "      <td>720859132.0</td>\n",
       "      <td>739108306.0</td>\n",
       "    </tr>\n",
       "    <tr>\n",
       "      <th>2</th>\n",
       "      <td>Afghanistan</td>\n",
       "      <td>AFG</td>\n",
       "      <td>Population, total</td>\n",
       "      <td>SP.POP.TOTL</td>\n",
       "      <td>8622466.0</td>\n",
       "      <td>8790140.0</td>\n",
       "      <td>8969047.0</td>\n",
       "      <td>9157465.0</td>\n",
       "      <td>9355514.0</td>\n",
       "      <td>9565147.0</td>\n",
       "      <td>...</td>\n",
       "      <td>32716210.0</td>\n",
       "      <td>33753499.0</td>\n",
       "      <td>34636207.0</td>\n",
       "      <td>35643418.0</td>\n",
       "      <td>36686784.0</td>\n",
       "      <td>37769499.0</td>\n",
       "      <td>38972230.0</td>\n",
       "      <td>40099462.0</td>\n",
       "      <td>41128771.0</td>\n",
       "      <td>42239854.0</td>\n",
       "    </tr>\n",
       "    <tr>\n",
       "      <th>3</th>\n",
       "      <td>Africa Western and Central</td>\n",
       "      <td>AFW</td>\n",
       "      <td>Population, total</td>\n",
       "      <td>SP.POP.TOTL</td>\n",
       "      <td>97256290.0</td>\n",
       "      <td>99314028.0</td>\n",
       "      <td>101445032.0</td>\n",
       "      <td>103667517.0</td>\n",
       "      <td>105959979.0</td>\n",
       "      <td>108336203.0</td>\n",
       "      <td>...</td>\n",
       "      <td>397855507.0</td>\n",
       "      <td>408690375.0</td>\n",
       "      <td>419778384.0</td>\n",
       "      <td>431138704.0</td>\n",
       "      <td>442646825.0</td>\n",
       "      <td>454306063.0</td>\n",
       "      <td>466189102.0</td>\n",
       "      <td>478185907.0</td>\n",
       "      <td>490330870.0</td>\n",
       "      <td>502789511.0</td>\n",
       "    </tr>\n",
       "    <tr>\n",
       "      <th>4</th>\n",
       "      <td>Angola</td>\n",
       "      <td>AGO</td>\n",
       "      <td>Population, total</td>\n",
       "      <td>SP.POP.TOTL</td>\n",
       "      <td>5357195.0</td>\n",
       "      <td>5441333.0</td>\n",
       "      <td>5521400.0</td>\n",
       "      <td>5599827.0</td>\n",
       "      <td>5673199.0</td>\n",
       "      <td>5736582.0</td>\n",
       "      <td>...</td>\n",
       "      <td>27128337.0</td>\n",
       "      <td>28127721.0</td>\n",
       "      <td>29154746.0</td>\n",
       "      <td>30208628.0</td>\n",
       "      <td>31273533.0</td>\n",
       "      <td>32353588.0</td>\n",
       "      <td>33428486.0</td>\n",
       "      <td>34503774.0</td>\n",
       "      <td>35588987.0</td>\n",
       "      <td>36684202.0</td>\n",
       "    </tr>\n",
       "  </tbody>\n",
       "</table>\n",
       "<p>5 rows × 68 columns</p>\n",
       "</div>"
      ],
      "text/plain": [
       "                       Country Country Code          Indicator Indicator Code  \\\n",
       "0                        Aruba          ABW  Population, total    SP.POP.TOTL   \n",
       "1  Africa Eastern and Southern          AFE  Population, total    SP.POP.TOTL   \n",
       "2                  Afghanistan          AFG  Population, total    SP.POP.TOTL   \n",
       "3   Africa Western and Central          AFW  Population, total    SP.POP.TOTL   \n",
       "4                       Angola          AGO  Population, total    SP.POP.TOTL   \n",
       "\n",
       "          1960         1961         1962         1963         1964  \\\n",
       "0      54608.0      55811.0      56682.0      57475.0      58178.0   \n",
       "1  130692579.0  134169237.0  137835590.0  141630546.0  145605995.0   \n",
       "2    8622466.0    8790140.0    8969047.0    9157465.0    9355514.0   \n",
       "3   97256290.0   99314028.0  101445032.0  103667517.0  105959979.0   \n",
       "4    5357195.0    5441333.0    5521400.0    5599827.0    5673199.0   \n",
       "\n",
       "          1965  ...         2014         2015         2016         2017  \\\n",
       "0      58782.0  ...     103594.0     104257.0     104874.0     105439.0   \n",
       "1  149742351.0  ...  583651101.0  600008424.0  616377605.0  632746570.0   \n",
       "2    9565147.0  ...   32716210.0   33753499.0   34636207.0   35643418.0   \n",
       "3  108336203.0  ...  397855507.0  408690375.0  419778384.0  431138704.0   \n",
       "4    5736582.0  ...   27128337.0   28127721.0   29154746.0   30208628.0   \n",
       "\n",
       "          2018         2019         2020         2021         2022  \\\n",
       "0     105962.0     106442.0     106585.0     106537.0     106445.0   \n",
       "1  649757148.0  667242986.0  685112979.0  702977106.0  720859132.0   \n",
       "2   36686784.0   37769499.0   38972230.0   40099462.0   41128771.0   \n",
       "3  442646825.0  454306063.0  466189102.0  478185907.0  490330870.0   \n",
       "4   31273533.0   32353588.0   33428486.0   34503774.0   35588987.0   \n",
       "\n",
       "          2023  \n",
       "0     106277.0  \n",
       "1  739108306.0  \n",
       "2   42239854.0  \n",
       "3  502789511.0  \n",
       "4   36684202.0  \n",
       "\n",
       "[5 rows x 68 columns]"
      ]
     },
     "execution_count": 5,
     "metadata": {},
     "output_type": "execute_result"
    }
   ],
   "source": [
    "df.head()"
   ]
  },
  {
   "cell_type": "code",
   "execution_count": 6,
   "metadata": {},
   "outputs": [],
   "source": [
    "# considering well known 17 countries with different colours\n",
    "\n",
    "countries = [\"United States\", \"China\", \"India\", \"Russia\", \"Brazil\", \"Germany\", \"United Kingdom\", \"France\", \"Japan\", \"Canada\", \"Australia\", \"South Korea\", \n",
    "             \"Italy\", \"Mexico\", \"South Africa\", \"Indonesia\", \"Saudi Arabia\",\"Turkey\", \"Spain\", \"Argentina\"]\n",
    "colors = dict(zip(countries, ['#1f77b4', '#ff7f0e', '#2ca02c', '#d62728', '#9467bd', '#8c564b', '#e377c2', '#7f7f7f','#bcbd22', \n",
    "                              '#17becf', '#1f77b4','#ff9896', '#98df8a', '#ffbb78', '#c5b0d5', '#f7b6d2','#c7c7c7', '#dbdb8d', '#9edae5', '#aec7e8']))\n",
    "population_df = population_df.loc[population_df.index.isin(countries)]"
   ]
  },
  {
   "cell_type": "code",
   "execution_count": 7,
   "metadata": {},
   "outputs": [],
   "source": [
    "# Function to create bar chart data\n",
    "\n",
    "def create_bar(year):\n",
    "    return go.Bar(x=population_df[str(year)], y=population_df.index, orientation='h', marker_color=[colors[c] for c in population_df.index])\n"
   ]
  },
  {
   "cell_type": "code",
   "execution_count": 8,
   "metadata": {},
   "outputs": [],
   "source": [
    "# Create figure\n",
    "fig = go.Figure(\n",
    "    data=[create_bar(1960)],\n",
    "    layout=go.Layout(\n",
    "        title=\"Population of Well-Known Countries (1960-2023)\",xaxis_title=\"Population\", yaxis_title=\"Countries\",\n",
    "        height=600,barmode=\"group\",bargap=0.000000000000000000000000000001,  # Reduce gap between bars to make them thicker\n",
    "        updatemenus=[{\"type\": \"buttons\",\"buttons\": [{\"args\": [None, {\"frame\": {\"duration\": 300, \"redraw\": True}, \"fromcurrent\": True}], \n",
    "                     \"label\": \"Play\", \"method\": \"animate\"}],\"direction\": \"right\",\"pad\": {\"r\": 10, \"t\": 70},\"x\": -0.2, \n",
    "                    \"xanchor\": \"left\",\"y\": 0.1,\"yanchor\": \"top\"},\n",
    "                     {\"type\": \"buttons\",\"buttons\": [{\"args\": [[None], {\"frame\": {\"duration\": 0, \"redraw\": True}, \"mode\": \"immediate\"}], \n",
    "                     \"label\": \"Pause\", \"method\": \"animate\"}],\"direction\": \"right\",\"pad\": {\"r\": 10, \"t\": 70},\"x\": -0.1,  \n",
    "                \"xanchor\": \"left\",\"y\": 0.1,\"yanchor\": \"top\"}\n",
    "                    ],\n",
    "        sliders=[{\n",
    "            \"currentvalue\": {\"prefix\": \"Year: \", \"font\": {\"size\": 18}},\n",
    "            \"steps\": [{\"args\": [[str(year)], {\"frame\": {\"duration\": 300}, \"mode\": \"immediate\"}], \"label\": str(year), \"method\": \"animate\"} for year in range(1960, 2024)]\n",
    "        }]\n",
    "    ),\n",
    "    frames=[go.Frame(data=[create_bar(year)], name=str(year)) for year in range(1960, 2024)]\n",
    ")"
   ]
  },
  {
   "cell_type": "code",
   "execution_count": 9,
   "metadata": {},
   "outputs": [
    {
     "data": {
      "application/vnd.plotly.v1+json": {
       "config": {
        "plotlyServerURL": "https://plot.ly"
       },
       "data": [
        {
         "marker": {
          "color": [
           "#aec7e8",
           "#1f77b4",
           "#9467bd",
           "#17becf",
           "#ff7f0e",
           "#8c564b",
           "#9edae5",
           "#7f7f7f",
           "#e377c2",
           "#f7b6d2",
           "#2ca02c",
           "#98df8a",
           "#bcbd22",
           "#ffbb78",
           "#c7c7c7",
           "#1f77b4",
           "#c5b0d5"
          ]
         },
         "orientation": "h",
         "type": "bar",
         "x": [
          20349744,
          10276477,
          73092515,
          17909356,
          667070000,
          72814900,
          30455000,
          46649927,
          52400000,
          88382881,
          445954579,
          50199700,
          93216000,
          36268055,
          4165563,
          180671000,
          16520441
         ],
         "y": [
          "Argentina",
          "Australia",
          "Brazil",
          "Canada",
          "China",
          "Germany",
          "Spain",
          "France",
          "United Kingdom",
          "Indonesia",
          "India",
          "Italy",
          "Japan",
          "Mexico",
          "Saudi Arabia",
          "United States",
          "South Africa"
         ]
        }
       ],
       "frames": [
        {
         "data": [
          {
           "marker": {
            "color": [
             "#aec7e8",
             "#1f77b4",
             "#9467bd",
             "#17becf",
             "#ff7f0e",
             "#8c564b",
             "#9edae5",
             "#7f7f7f",
             "#e377c2",
             "#f7b6d2",
             "#2ca02c",
             "#98df8a",
             "#bcbd22",
             "#ffbb78",
             "#c7c7c7",
             "#1f77b4",
             "#c5b0d5"
            ]
           },
           "orientation": "h",
           "type": "bar",
           "x": [
            20349744,
            10276477,
            73092515,
            17909356,
            667070000,
            72814900,
            30455000,
            46649927,
            52400000,
            88382881,
            445954579,
            50199700,
            93216000,
            36268055,
            4165563,
            180671000,
            16520441
           ],
           "y": [
            "Argentina",
            "Australia",
            "Brazil",
            "Canada",
            "China",
            "Germany",
            "Spain",
            "France",
            "United Kingdom",
            "Indonesia",
            "India",
            "Italy",
            "Japan",
            "Mexico",
            "Saudi Arabia",
            "United States",
            "South Africa"
           ]
          }
         ],
         "name": "1960"
        },
        {
         "data": [
          {
           "marker": {
            "color": [
             "#aec7e8",
             "#1f77b4",
             "#9467bd",
             "#17becf",
             "#ff7f0e",
             "#8c564b",
             "#9edae5",
             "#7f7f7f",
             "#e377c2",
             "#f7b6d2",
             "#2ca02c",
             "#98df8a",
             "#bcbd22",
             "#ffbb78",
             "#c7c7c7",
             "#1f77b4",
             "#c5b0d5"
            ]
           },
           "orientation": "h",
           "type": "bar",
           "x": [
            20680653,
            10483000,
            75330008,
            18271000,
            660330000,
            73377632,
            30739250,
            47161641,
            52800000,
            90816938,
            456351876,
            50536350,
            94055000,
            37439317,
            4306048,
            183691000,
            16989464
           ],
           "y": [
            "Argentina",
            "Australia",
            "Brazil",
            "Canada",
            "China",
            "Germany",
            "Spain",
            "France",
            "United Kingdom",
            "Indonesia",
            "India",
            "Italy",
            "Japan",
            "Mexico",
            "Saudi Arabia",
            "United States",
            "South Africa"
           ]
          }
         ],
         "name": "1961"
        },
        {
         "data": [
          {
           "marker": {
            "color": [
             "#aec7e8",
             "#1f77b4",
             "#9467bd",
             "#17becf",
             "#ff7f0e",
             "#8c564b",
             "#9edae5",
             "#7f7f7f",
             "#e377c2",
             "#f7b6d2",
             "#2ca02c",
             "#98df8a",
             "#bcbd22",
             "#ffbb78",
             "#c7c7c7",
             "#1f77b4",
             "#c5b0d5"
            ]
           },
           "orientation": "h",
           "type": "bar",
           "x": [
            21020359,
            10742000,
            77599218,
            18614000,
            665770000,
            74025784,
            31023366,
            47679792,
            53250000,
            93345489,
            467024193,
            50879450,
            94933000,
            38683283,
            4458516,
            186538000,
            17503133
           ],
           "y": [
            "Argentina",
            "Australia",
            "Brazil",
            "Canada",
            "China",
            "Germany",
            "Spain",
            "France",
            "United Kingdom",
            "Indonesia",
            "India",
            "Italy",
            "Japan",
            "Mexico",
            "Saudi Arabia",
            "United States",
            "South Africa"
           ]
          }
         ],
         "name": "1962"
        },
        {
         "data": [
          {
           "marker": {
            "color": [
             "#aec7e8",
             "#1f77b4",
             "#9467bd",
             "#17becf",
             "#ff7f0e",
             "#8c564b",
             "#9edae5",
             "#7f7f7f",
             "#e377c2",
             "#f7b6d2",
             "#2ca02c",
             "#98df8a",
             "#bcbd22",
             "#ffbb78",
             "#c7c7c7",
             "#1f77b4",
             "#c5b0d5"
            ]
           },
           "orientation": "h",
           "type": "bar",
           "x": [
            21364017,
            10950000,
            79915555,
            18964000,
            682335000,
            74714353,
            31296651,
            48189939,
            53650000,
            95962527,
            477933619,
            51252000,
            95900000,
            39982118,
            4621655,
            189242000,
            18042215
           ],
           "y": [
            "Argentina",
            "Australia",
            "Brazil",
            "Canada",
            "China",
            "Germany",
            "Spain",
            "France",
            "United Kingdom",
            "Indonesia",
            "India",
            "Italy",
            "Japan",
            "Mexico",
            "Saudi Arabia",
            "United States",
            "South Africa"
           ]
          }
         ],
         "name": "1963"
        },
        {
         "data": [
          {
           "marker": {
            "color": [
             "#aec7e8",
             "#1f77b4",
             "#9467bd",
             "#17becf",
             "#ff7f0e",
             "#8c564b",
             "#9edae5",
             "#7f7f7f",
             "#e377c2",
             "#f7b6d2",
             "#2ca02c",
             "#98df8a",
             "#bcbd22",
             "#ffbb78",
             "#c7c7c7",
             "#1f77b4",
             "#c5b0d5"
            ]
           },
           "orientation": "h",
           "type": "bar",
           "x": [
            21708487,
            11167000,
            82262794,
            19325000,
            698355000,
            75318337,
            31609195,
            48733997,
            54000000,
            98675061,
            489059309,
            51675350,
            96903000,
            41333878,
            4795130,
            191889000,
            18603097
           ],
           "y": [
            "Argentina",
            "Australia",
            "Brazil",
            "Canada",
            "China",
            "Germany",
            "Spain",
            "France",
            "United Kingdom",
            "Indonesia",
            "India",
            "Italy",
            "Japan",
            "Mexico",
            "Saudi Arabia",
            "United States",
            "South Africa"
           ]
          }
         ],
         "name": "1964"
        },
        {
         "data": [
          {
           "marker": {
            "color": [
             "#aec7e8",
             "#1f77b4",
             "#9467bd",
             "#17becf",
             "#ff7f0e",
             "#8c564b",
             "#9edae5",
             "#7f7f7f",
             "#e377c2",
             "#f7b6d2",
             "#2ca02c",
             "#98df8a",
             "#bcbd22",
             "#ffbb78",
             "#c7c7c7",
             "#1f77b4",
             "#c5b0d5"
            ]
           },
           "orientation": "h",
           "type": "bar",
           "x": [
            22053661,
            11388000,
            84623747,
            19678000,
            715185000,
            75963695,
            31954292,
            49282756,
            54348050,
            101157868,
            500114346,
            52112350,
            97952000,
            42737991,
            4978922,
            194303000,
            19187194
           ],
           "y": [
            "Argentina",
            "Australia",
            "Brazil",
            "Canada",
            "China",
            "Germany",
            "Spain",
            "France",
            "United Kingdom",
            "Indonesia",
            "India",
            "Italy",
            "Japan",
            "Mexico",
            "Saudi Arabia",
            "United States",
            "South Africa"
           ]
          }
         ],
         "name": "1965"
        },
        {
         "data": [
          {
           "marker": {
            "color": [
             "#aec7e8",
             "#1f77b4",
             "#9467bd",
             "#17becf",
             "#ff7f0e",
             "#8c564b",
             "#9edae5",
             "#7f7f7f",
             "#e377c2",
             "#f7b6d2",
             "#2ca02c",
             "#98df8a",
             "#bcbd22",
             "#ffbb78",
             "#c7c7c7",
             "#1f77b4",
             "#c5b0d5"
            ]
           },
           "orientation": "h",
           "type": "bar",
           "x": [
            22403116,
            11651000,
            86979283,
            20048000,
            735400000,
            76600311,
            32283194,
            49817041,
            54648500,
            103561105,
            510992617,
            52519000,
            98851000,
            44180437,
            5173237,
            196560000,
            19789771
           ],
           "y": [
            "Argentina",
            "Australia",
            "Brazil",
            "Canada",
            "China",
            "Germany",
            "Spain",
            "France",
            "United Kingdom",
            "Indonesia",
            "India",
            "Italy",
            "Japan",
            "Mexico",
            "Saudi Arabia",
            "United States",
            "South Africa"
           ]
          }
         ],
         "name": "1966"
        },
        {
         "data": [
          {
           "marker": {
            "color": [
             "#aec7e8",
             "#1f77b4",
             "#9467bd",
             "#17becf",
             "#ff7f0e",
             "#8c564b",
             "#9edae5",
             "#7f7f7f",
             "#e377c2",
             "#f7b6d2",
             "#2ca02c",
             "#98df8a",
             "#bcbd22",
             "#ffbb78",
             "#c7c7c7",
             "#1f77b4",
             "#c5b0d5"
            ]
           },
           "orientation": "h",
           "type": "bar",
           "x": [
            22757014,
            11799000,
            89323288,
            20412000,
            754550000,
            76951336,
            32682947,
            50334012,
            54943600,
            106260749,
            521987069,
            52900500,
            99879000,
            45656963,
            5381026,
            198712000,
            20410677
           ],
           "y": [
            "Argentina",
            "Australia",
            "Brazil",
            "Canada",
            "China",
            "Germany",
            "Spain",
            "France",
            "United Kingdom",
            "Indonesia",
            "India",
            "Italy",
            "Japan",
            "Mexico",
            "Saudi Arabia",
            "United States",
            "South Africa"
           ]
          }
         ],
         "name": "1967"
        },
        {
         "data": [
          {
           "marker": {
            "color": [
             "#aec7e8",
             "#1f77b4",
             "#9467bd",
             "#17becf",
             "#ff7f0e",
             "#8c564b",
             "#9edae5",
             "#7f7f7f",
             "#e377c2",
             "#f7b6d2",
             "#2ca02c",
             "#98df8a",
             "#bcbd22",
             "#ffbb78",
             "#c7c7c7",
             "#1f77b4",
             "#c5b0d5"
            ]
           },
           "orientation": "h",
           "type": "bar",
           "x": [
            23112971,
            12009000,
            91659246,
            20744000,
            774510000,
            77294314,
            33113134,
            50817020,
            55211700,
            109138723,
            533431909,
            53235750,
            101011000,
            47170337,
            5604582,
            200706000,
            21050540
           ],
           "y": [
            "Argentina",
            "Australia",
            "Brazil",
            "Canada",
            "China",
            "Germany",
            "Spain",
            "France",
            "United Kingdom",
            "Indonesia",
            "India",
            "Italy",
            "Japan",
            "Mexico",
            "Saudi Arabia",
            "United States",
            "South Africa"
           ]
          }
         ],
         "name": "1968"
        },
        {
         "data": [
          {
           "marker": {
            "color": [
             "#aec7e8",
             "#1f77b4",
             "#9467bd",
             "#17becf",
             "#ff7f0e",
             "#8c564b",
             "#9edae5",
             "#7f7f7f",
             "#e377c2",
             "#f7b6d2",
             "#2ca02c",
             "#98df8a",
             "#bcbd22",
             "#ffbb78",
             "#c7c7c7",
             "#1f77b4",
             "#c5b0d5"
            ]
           },
           "orientation": "h",
           "type": "bar",
           "x": [
            23472028,
            12263000,
            94000381,
            21028000,
            796025000,
            77909682,
            33441054,
            51272683,
            55441750,
            112149246,
            545314670,
            53537950,
            102219000,
            48714394,
            5844843,
            202677000,
            21704214
           ],
           "y": [
            "Argentina",
            "Australia",
            "Brazil",
            "Canada",
            "China",
            "Germany",
            "Spain",
            "France",
            "United Kingdom",
            "Indonesia",
            "India",
            "Italy",
            "Japan",
            "Mexico",
            "Saudi Arabia",
            "United States",
            "South Africa"
           ]
          }
         ],
         "name": "1969"
        },
        {
         "data": [
          {
           "marker": {
            "color": [
             "#aec7e8",
             "#1f77b4",
             "#9467bd",
             "#17becf",
             "#ff7f0e",
             "#8c564b",
             "#9edae5",
             "#7f7f7f",
             "#e377c2",
             "#f7b6d2",
             "#2ca02c",
             "#98df8a",
             "#bcbd22",
             "#ffbb78",
             "#c7c7c7",
             "#1f77b4",
             "#c5b0d5"
            ]
           },
           "orientation": "h",
           "type": "bar",
           "x": [
            23842803,
            12507000,
            96369875,
            21324000,
            818315000,
            78169289,
            33814531,
            51724116,
            55663250,
            115228394,
            557501301,
            53821850,
            103403000,
            50289306,
            6106191,
            205052000,
            22368306
           ],
           "y": [
            "Argentina",
            "Australia",
            "Brazil",
            "Canada",
            "China",
            "Germany",
            "Spain",
            "France",
            "United Kingdom",
            "Indonesia",
            "India",
            "Italy",
            "Japan",
            "Mexico",
            "Saudi Arabia",
            "United States",
            "South Africa"
           ]
          }
         ],
         "name": "1970"
        },
        {
         "data": [
          {
           "marker": {
            "color": [
             "#aec7e8",
             "#1f77b4",
             "#9467bd",
             "#17becf",
             "#ff7f0e",
             "#8c564b",
             "#9edae5",
             "#7f7f7f",
             "#e377c2",
             "#f7b6d2",
             "#2ca02c",
             "#98df8a",
             "#bcbd22",
             "#ffbb78",
             "#c7c7c7",
             "#1f77b4",
             "#c5b0d5"
            ]
           },
           "orientation": "h",
           "type": "bar",
           "x": [
            24223379,
            12937000,
            98766288,
            21962032,
            841105000,
            78312842,
            34224490,
            52185222,
            55896223,
            118347135,
            569999178,
            54073490,
            105697000,
            51897675,
            6396658,
            207661000,
            23031441
           ],
           "y": [
            "Argentina",
            "Australia",
            "Brazil",
            "Canada",
            "China",
            "Germany",
            "Spain",
            "France",
            "United Kingdom",
            "Indonesia",
            "India",
            "Italy",
            "Japan",
            "Mexico",
            "Saudi Arabia",
            "United States",
            "South Africa"
           ]
          }
         ],
         "name": "1971"
        },
        {
         "data": [
          {
           "marker": {
            "color": [
             "#aec7e8",
             "#1f77b4",
             "#9467bd",
             "#17becf",
             "#ff7f0e",
             "#8c564b",
             "#9edae5",
             "#7f7f7f",
             "#e377c2",
             "#f7b6d2",
             "#2ca02c",
             "#98df8a",
             "#bcbd22",
             "#ffbb78",
             "#c7c7c7",
             "#1f77b4",
             "#c5b0d5"
            ]
           },
           "orientation": "h",
           "type": "bar",
           "x": [
            24612794,
            13177000,
            101194394,
            22218463,
            862030000,
            78688452,
            34604469,
            52637888,
            56086065,
            121504145,
            582837973,
            54381345,
            107188000,
            53543436,
            6724260,
            209896000,
            23698507
           ],
           "y": [
            "Argentina",
            "Australia",
            "Brazil",
            "Canada",
            "China",
            "Germany",
            "Spain",
            "France",
            "United Kingdom",
            "Indonesia",
            "India",
            "Italy",
            "Japan",
            "Mexico",
            "Saudi Arabia",
            "United States",
            "South Africa"
           ]
          }
         ],
         "name": "1972"
        },
        {
         "data": [
          {
           "marker": {
            "color": [
             "#aec7e8",
             "#1f77b4",
             "#9467bd",
             "#17becf",
             "#ff7f0e",
             "#8c564b",
             "#9edae5",
             "#7f7f7f",
             "#e377c2",
             "#f7b6d2",
             "#2ca02c",
             "#98df8a",
             "#bcbd22",
             "#ffbb78",
             "#c7c7c7",
             "#1f77b4",
             "#c5b0d5"
            ]
           },
           "orientation": "h",
           "type": "bar",
           "x": [
            25020588,
            13380000,
            103666904,
            22491777,
            881940000,
            78936666,
            34988947,
            53053660,
            56194527,
            124709058,
            596107483,
            54751406,
            108707000,
            55228203,
            7088758,
            211909000,
            24382513
           ],
           "y": [
            "Argentina",
            "Australia",
            "Brazil",
            "Canada",
            "China",
            "Germany",
            "Spain",
            "France",
            "United Kingdom",
            "Indonesia",
            "India",
            "Italy",
            "Japan",
            "Mexico",
            "Saudi Arabia",
            "United States",
            "South Africa"
           ]
          }
         ],
         "name": "1973"
        },
        {
         "data": [
          {
           "marker": {
            "color": [
             "#aec7e8",
             "#1f77b4",
             "#9467bd",
             "#17becf",
             "#ff7f0e",
             "#8c564b",
             "#9edae5",
             "#7f7f7f",
             "#e377c2",
             "#f7b6d2",
             "#2ca02c",
             "#98df8a",
             "#bcbd22",
             "#ffbb78",
             "#c7c7c7",
             "#1f77b4",
             "#c5b0d5"
            ]
           },
           "orientation": "h",
           "type": "bar",
           "x": [
            25449754,
            13723000,
            106167372,
            22807969,
            900350000,
            78967433,
            35373335,
            53415250,
            56229974,
            127945196,
            609721951,
            55110868,
            110162000,
            56945880,
            7483506,
            213854000,
            25077016
           ],
           "y": [
            "Argentina",
            "Australia",
            "Brazil",
            "Canada",
            "China",
            "Germany",
            "Spain",
            "France",
            "United Kingdom",
            "Indonesia",
            "India",
            "Italy",
            "Japan",
            "Mexico",
            "Saudi Arabia",
            "United States",
            "South Africa"
           ]
          }
         ],
         "name": "1974"
        },
        {
         "data": [
          {
           "marker": {
            "color": [
             "#aec7e8",
             "#1f77b4",
             "#9467bd",
             "#17becf",
             "#ff7f0e",
             "#8c564b",
             "#9edae5",
             "#7f7f7f",
             "#e377c2",
             "#f7b6d2",
             "#2ca02c",
             "#98df8a",
             "#bcbd22",
             "#ffbb78",
             "#c7c7c7",
             "#1f77b4",
             "#c5b0d5"
            ]
           },
           "orientation": "h",
           "type": "bar",
           "x": [
            25875558,
            13893000,
            108700515,
            23143275,
            916395000,
            78673554,
            35757900,
            53715733,
            56225800,
            131213215,
            623524219,
            55441001,
            111573000,
            58691882,
            7897544,
            215973000,
            25777964
           ],
           "y": [
            "Argentina",
            "Australia",
            "Brazil",
            "Canada",
            "China",
            "Germany",
            "Spain",
            "France",
            "United Kingdom",
            "Indonesia",
            "India",
            "Italy",
            "Japan",
            "Mexico",
            "Saudi Arabia",
            "United States",
            "South Africa"
           ]
          }
         ],
         "name": "1975"
        },
        {
         "data": [
          {
           "marker": {
            "color": [
             "#aec7e8",
             "#1f77b4",
             "#9467bd",
             "#17becf",
             "#ff7f0e",
             "#8c564b",
             "#9edae5",
             "#7f7f7f",
             "#e377c2",
             "#f7b6d2",
             "#2ca02c",
             "#98df8a",
             "#bcbd22",
             "#ffbb78",
             "#c7c7c7",
             "#1f77b4",
             "#c5b0d5"
            ]
           },
           "orientation": "h",
           "type": "bar",
           "x": [
            26290257,
            14033000,
            111286504,
            23449808,
            930685000,
            78336950,
            36137812,
            53966558,
            56211968,
            134521025,
            637451448,
            55718260,
            112775000,
            60452543,
            8319556,
            218035000,
            26480300
           ],
           "y": [
            "Argentina",
            "Australia",
            "Brazil",
            "Canada",
            "China",
            "Germany",
            "Spain",
            "France",
            "United Kingdom",
            "Indonesia",
            "India",
            "Italy",
            "Japan",
            "Mexico",
            "Saudi Arabia",
            "United States",
            "South Africa"
           ]
          }
         ],
         "name": "1976"
        },
        {
         "data": [
          {
           "marker": {
            "color": [
             "#aec7e8",
             "#1f77b4",
             "#9467bd",
             "#17becf",
             "#ff7f0e",
             "#8c564b",
             "#9edae5",
             "#7f7f7f",
             "#e377c2",
             "#f7b6d2",
             "#2ca02c",
             "#98df8a",
             "#bcbd22",
             "#ffbb78",
             "#c7c7c7",
             "#1f77b4",
             "#c5b0d5"
            ]
           },
           "orientation": "h",
           "type": "bar",
           "x": [
            26713780,
            14192000,
            113939886,
            23725843,
            943455000,
            78159814,
            36511638,
            54221988,
            56193492,
            137861540,
            651685628,
            55955411,
            113872000,
            62262505,
            8755219,
            220239000,
            27199838
           ],
           "y": [
            "Argentina",
            "Australia",
            "Brazil",
            "Canada",
            "China",
            "Germany",
            "Spain",
            "France",
            "United Kingdom",
            "Indonesia",
            "India",
            "Italy",
            "Japan",
            "Mexico",
            "Saudi Arabia",
            "United States",
            "South Africa"
           ]
          }
         ],
         "name": "1977"
        },
        {
         "data": [
          {
           "marker": {
            "color": [
             "#aec7e8",
             "#1f77b4",
             "#9467bd",
             "#17becf",
             "#ff7f0e",
             "#8c564b",
             "#9edae5",
             "#7f7f7f",
             "#e377c2",
             "#f7b6d2",
             "#2ca02c",
             "#98df8a",
             "#bcbd22",
             "#ffbb78",
             "#c7c7c7",
             "#1f77b4",
             "#c5b0d5"
            ]
           },
           "orientation": "h",
           "type": "bar",
           "x": [
            27146121,
            14358000,
            116664382,
            23963203,
            956165000,
            78091820,
            36864898,
            54486195,
            56196504,
            141250964,
            666267760,
            56155143,
            114913000,
            64123997,
            9210564,
            222585000,
            27943445
           ],
           "y": [
            "Argentina",
            "Australia",
            "Brazil",
            "Canada",
            "China",
            "Germany",
            "Spain",
            "France",
            "United Kingdom",
            "Indonesia",
            "India",
            "Italy",
            "Japan",
            "Mexico",
            "Saudi Arabia",
            "United States",
            "South Africa"
           ]
          }
         ],
         "name": "1978"
        },
        {
         "data": [
          {
           "marker": {
            "color": [
             "#aec7e8",
             "#1f77b4",
             "#9467bd",
             "#17becf",
             "#ff7f0e",
             "#8c564b",
             "#9edae5",
             "#7f7f7f",
             "#e377c2",
             "#f7b6d2",
             "#2ca02c",
             "#98df8a",
             "#bcbd22",
             "#ffbb78",
             "#c7c7c7",
             "#1f77b4",
             "#c5b0d5"
            ]
           },
           "orientation": "h",
           "type": "bar",
           "x": [
            27584134,
            14514000,
            119447303,
            24201544,
            969005000,
            78126350,
            37191330,
            54753575,
            56246951,
            144693087,
            681248383,
            56317749,
            115890000,
            65972912,
            9682002,
            225055000,
            28697014
           ],
           "y": [
            "Argentina",
            "Australia",
            "Brazil",
            "Canada",
            "China",
            "Germany",
            "Spain",
            "France",
            "United Kingdom",
            "Indonesia",
            "India",
            "Italy",
            "Japan",
            "Mexico",
            "Saudi Arabia",
            "United States",
            "South Africa"
           ]
          }
         ],
         "name": "1979"
        },
        {
         "data": [
          {
           "marker": {
            "color": [
             "#aec7e8",
             "#1f77b4",
             "#9467bd",
             "#17becf",
             "#ff7f0e",
             "#8c564b",
             "#9edae5",
             "#7f7f7f",
             "#e377c2",
             "#f7b6d2",
             "#2ca02c",
             "#98df8a",
             "#bcbd22",
             "#ffbb78",
             "#c7c7c7",
             "#1f77b4",
             "#c5b0d5"
            ]
           },
           "orientation": "h",
           "type": "bar",
           "x": [
            28024803,
            14692000,
            122288383,
            24515667,
            981235000,
            78288576,
            37491165,
            55052582,
            56314216,
            148177096,
            696828385,
            56433883,
            116807000,
            67705186,
            10171710,
            227225000,
            29463549
           ],
           "y": [
            "Argentina",
            "Australia",
            "Brazil",
            "Canada",
            "China",
            "Germany",
            "Spain",
            "France",
            "United Kingdom",
            "Indonesia",
            "India",
            "Italy",
            "Japan",
            "Mexico",
            "Saudi Arabia",
            "United States",
            "South Africa"
           ]
          }
         ],
         "name": "1980"
        },
        {
         "data": [
          {
           "marker": {
            "color": [
             "#aec7e8",
             "#1f77b4",
             "#9467bd",
             "#17becf",
             "#ff7f0e",
             "#8c564b",
             "#9edae5",
             "#7f7f7f",
             "#e377c2",
             "#f7b6d2",
             "#2ca02c",
             "#98df8a",
             "#bcbd22",
             "#ffbb78",
             "#c7c7c7",
             "#1f77b4",
             "#c5b0d5"
            ]
           },
           "orientation": "h",
           "type": "bar",
           "x": [
            28471285,
            14923260,
            125168060,
            24819915,
            993885000,
            78407907,
            37758631,
            55371044,
            56333829,
            151686337,
            712869298,
            56501675,
            117661000,
            69233769,
            10678211,
            229466000,
            30232561
           ],
           "y": [
            "Argentina",
            "Australia",
            "Brazil",
            "Canada",
            "China",
            "Germany",
            "Spain",
            "France",
            "United Kingdom",
            "Indonesia",
            "India",
            "Italy",
            "Japan",
            "Mexico",
            "Saudi Arabia",
            "United States",
            "South Africa"
           ]
          }
         ],
         "name": "1981"
        },
        {
         "data": [
          {
           "marker": {
            "color": [
             "#aec7e8",
             "#1f77b4",
             "#9467bd",
             "#17becf",
             "#ff7f0e",
             "#8c564b",
             "#9edae5",
             "#7f7f7f",
             "#e377c2",
             "#f7b6d2",
             "#2ca02c",
             "#98df8a",
             "#bcbd22",
             "#ffbb78",
             "#c7c7c7",
             "#1f77b4",
             "#c5b0d5"
            ]
           },
           "orientation": "h",
           "type": "bar",
           "x": [
            28922762,
            15184247,
            128065095,
            25116942,
            1008630000,
            78333366,
            37986012,
            55694106,
            56313641,
            155228658,
            729169466,
            56543548,
            118480000,
            70656783,
            11201154,
            231664000,
            31022417
           ],
           "y": [
            "Argentina",
            "Australia",
            "Brazil",
            "Canada",
            "China",
            "Germany",
            "Spain",
            "France",
            "United Kingdom",
            "Indonesia",
            "India",
            "Italy",
            "Japan",
            "Mexico",
            "Saudi Arabia",
            "United States",
            "South Africa"
           ]
          }
         ],
         "name": "1982"
        },
        {
         "data": [
          {
           "marker": {
            "color": [
             "#aec7e8",
             "#1f77b4",
             "#9467bd",
             "#17becf",
             "#ff7f0e",
             "#8c564b",
             "#9edae5",
             "#7f7f7f",
             "#e377c2",
             "#f7b6d2",
             "#2ca02c",
             "#98df8a",
             "#bcbd22",
             "#ffbb78",
             "#c7c7c7",
             "#1f77b4",
             "#c5b0d5"
            ]
           },
           "orientation": "h",
           "type": "bar",
           "x": [
            29377137,
            15393472,
            130977370,
            25366451,
            1023310000,
            78128282,
            38171525,
            55992656,
            56332848,
            158790611,
            745826546,
            56564074,
            119307000,
            72080310,
            11746020,
            233792000,
            31865176
           ],
           "y": [
            "Argentina",
            "Australia",
            "Brazil",
            "Canada",
            "China",
            "Germany",
            "Spain",
            "France",
            "United Kingdom",
            "Indonesia",
            "India",
            "Italy",
            "Japan",
            "Mexico",
            "Saudi Arabia",
            "United States",
            "South Africa"
           ]
          }
         ],
         "name": "1983"
        },
        {
         "data": [
          {
           "marker": {
            "color": [
             "#aec7e8",
             "#1f77b4",
             "#9467bd",
             "#17becf",
             "#ff7f0e",
             "#8c564b",
             "#9edae5",
             "#7f7f7f",
             "#e377c2",
             "#f7b6d2",
             "#2ca02c",
             "#98df8a",
             "#bcbd22",
             "#ffbb78",
             "#c7c7c7",
             "#1f77b4",
             "#c5b0d5"
            ]
           },
           "orientation": "h",
           "type": "bar",
           "x": [
            29832197,
            15579391,
            133888775,
            25607053,
            1036825000,
            77858685,
            38330364,
            56275701,
            56422072,
            162331962,
            762895156,
            56576718,
            120083000,
            73489654,
            12310361,
            235825000,
            32768207
           ],
           "y": [
            "Argentina",
            "Australia",
            "Brazil",
            "Canada",
            "China",
            "Germany",
            "Spain",
            "France",
            "United Kingdom",
            "Indonesia",
            "India",
            "Italy",
            "Japan",
            "Mexico",
            "Saudi Arabia",
            "United States",
            "South Africa"
           ]
          }
         ],
         "name": "1984"
        },
        {
         "data": [
          {
           "marker": {
            "color": [
             "#aec7e8",
             "#1f77b4",
             "#9467bd",
             "#17becf",
             "#ff7f0e",
             "#8c564b",
             "#9edae5",
             "#7f7f7f",
             "#e377c2",
             "#f7b6d2",
             "#2ca02c",
             "#98df8a",
             "#bcbd22",
             "#ffbb78",
             "#c7c7c7",
             "#1f77b4",
             "#c5b0d5"
            ]
           },
           "orientation": "h",
           "type": "bar",
           "x": [
            30287112,
            15788312,
            136783180,
            25842116,
            1051040000,
            77684873,
            38469512,
            56569195,
            56550268,
            165791694,
            780242084,
            56593071,
            120837000,
            74872006,
            12890245,
            237924000,
            33752964
           ],
           "y": [
            "Argentina",
            "Australia",
            "Brazil",
            "Canada",
            "China",
            "Germany",
            "Spain",
            "France",
            "United Kingdom",
            "Indonesia",
            "India",
            "Italy",
            "Japan",
            "Mexico",
            "Saudi Arabia",
            "United States",
            "South Africa"
           ]
          }
         ],
         "name": "1985"
        },
        {
         "data": [
          {
           "marker": {
            "color": [
             "#aec7e8",
             "#1f77b4",
             "#9467bd",
             "#17becf",
             "#ff7f0e",
             "#8c564b",
             "#9edae5",
             "#7f7f7f",
             "#e377c2",
             "#f7b6d2",
             "#2ca02c",
             "#98df8a",
             "#bcbd22",
             "#ffbb78",
             "#c7c7c7",
             "#1f77b4",
             "#c5b0d5"
            ]
           },
           "orientation": "h",
           "type": "bar",
           "x": [
            30748326,
            16018350,
            139643355,
            26100278,
            1066790000,
            77720436,
            38584624,
            56865193,
            56681396,
            169135273,
            797878993,
            56596155,
            121482000,
            76224365,
            13483349,
            240133000,
            34877834
           ],
           "y": [
            "Argentina",
            "Australia",
            "Brazil",
            "Canada",
            "China",
            "Germany",
            "Spain",
            "France",
            "United Kingdom",
            "Indonesia",
            "India",
            "Italy",
            "Japan",
            "Mexico",
            "Saudi Arabia",
            "United States",
            "South Africa"
           ]
          }
         ],
         "name": "1986"
        },
        {
         "data": [
          {
           "marker": {
            "color": [
             "#aec7e8",
             "#1f77b4",
             "#9467bd",
             "#17becf",
             "#ff7f0e",
             "#8c564b",
             "#9edae5",
             "#7f7f7f",
             "#e377c2",
             "#f7b6d2",
             "#2ca02c",
             "#98df8a",
             "#bcbd22",
             "#ffbb78",
             "#c7c7c7",
             "#1f77b4",
             "#c5b0d5"
            ]
           },
           "orientation": "h",
           "type": "bar",
           "x": [
            31216453,
            16263874,
            142466264,
            26446601,
            1084035000,
            77839920,
            38684815,
            57168409,
            56802050,
            172421390,
            815716125,
            56601931,
            122069000,
            77553504,
            14089798,
            242289000,
            36119333
           ],
           "y": [
            "Argentina",
            "Australia",
            "Brazil",
            "Canada",
            "China",
            "Germany",
            "Spain",
            "France",
            "United Kingdom",
            "Indonesia",
            "India",
            "Italy",
            "Japan",
            "Mexico",
            "Saudi Arabia",
            "United States",
            "South Africa"
           ]
          }
         ],
         "name": "1987"
        },
        {
         "data": [
          {
           "marker": {
            "color": [
             "#aec7e8",
             "#1f77b4",
             "#9467bd",
             "#17becf",
             "#ff7f0e",
             "#8c564b",
             "#9edae5",
             "#7f7f7f",
             "#e377c2",
             "#f7b6d2",
             "#2ca02c",
             "#98df8a",
             "#bcbd22",
             "#ffbb78",
             "#c7c7c7",
             "#1f77b4",
             "#c5b0d5"
            ]
           },
           "orientation": "h",
           "type": "bar",
           "x": [
            31690792,
            16532164,
            145253973,
            26791747,
            1101630000,
            78144619,
            38766939,
            57472651,
            56928327,
            175694647,
            833729681,
            56629288,
            122578000,
            78892015,
            14713715,
            244499000,
            37393853
           ],
           "y": [
            "Argentina",
            "Australia",
            "Brazil",
            "Canada",
            "China",
            "Germany",
            "Spain",
            "France",
            "United Kingdom",
            "Indonesia",
            "India",
            "Italy",
            "Japan",
            "Mexico",
            "Saudi Arabia",
            "United States",
            "South Africa"
           ]
          }
         ],
         "name": "1988"
        },
        {
         "data": [
          {
           "marker": {
            "color": [
             "#aec7e8",
             "#1f77b4",
             "#9467bd",
             "#17becf",
             "#ff7f0e",
             "#8c564b",
             "#9edae5",
             "#7f7f7f",
             "#e377c2",
             "#f7b6d2",
             "#2ca02c",
             "#98df8a",
             "#bcbd22",
             "#ffbb78",
             "#c7c7c7",
             "#1f77b4",
             "#c5b0d5"
            ]
           },
           "orientation": "h",
           "type": "bar",
           "x": [
            32165766,
            16814416,
            148003411,
            27276781,
            1118650000,
            78751283,
            38827764,
            57766282,
            57076711,
            178949174,
            852012673,
            56671781,
            123069000,
            80233749,
            15353227,
            246819000,
            38668684
           ],
           "y": [
            "Argentina",
            "Australia",
            "Brazil",
            "Canada",
            "China",
            "Germany",
            "Spain",
            "France",
            "United Kingdom",
            "Indonesia",
            "India",
            "Italy",
            "Japan",
            "Mexico",
            "Saudi Arabia",
            "United States",
            "South Africa"
           ]
          }
         ],
         "name": "1989"
        },
        {
         "data": [
          {
           "marker": {
            "color": [
             "#aec7e8",
             "#1f77b4",
             "#9467bd",
             "#17becf",
             "#ff7f0e",
             "#8c564b",
             "#9edae5",
             "#7f7f7f",
             "#e377c2",
             "#f7b6d2",
             "#2ca02c",
             "#98df8a",
             "#bcbd22",
             "#ffbb78",
             "#c7c7c7",
             "#1f77b4",
             "#c5b0d5"
            ]
           },
           "orientation": "h",
           "type": "bar",
           "x": [
            32637657,
            17065128,
            150706446,
            27691138,
            1135185000,
            79433029,
            38867322,
            58044701,
            57247586,
            182159874,
            870452165,
            56719240,
            123478000,
            81720428,
            16004763,
            249623000,
            39877570
           ],
           "y": [
            "Argentina",
            "Australia",
            "Brazil",
            "Canada",
            "China",
            "Germany",
            "Spain",
            "France",
            "United Kingdom",
            "Indonesia",
            "India",
            "Italy",
            "Japan",
            "Mexico",
            "Saudi Arabia",
            "United States",
            "South Africa"
           ]
          }
         ],
         "name": "1990"
        },
        {
         "data": [
          {
           "marker": {
            "color": [
             "#aec7e8",
             "#1f77b4",
             "#9467bd",
             "#17becf",
             "#ff7f0e",
             "#8c564b",
             "#9edae5",
             "#7f7f7f",
             "#e377c2",
             "#f7b6d2",
             "#2ca02c",
             "#98df8a",
             "#bcbd22",
             "#ffbb78",
             "#c7c7c7",
             "#1f77b4",
             "#c5b0d5"
            ]
           },
           "orientation": "h",
           "type": "bar",
           "x": [
            33105763,
            17284036,
            153336445,
            28037420,
            1150780000,
            80013896,
            38966376,
            58557577,
            57424897,
            185361228,
            888941756,
            56758521,
            123964000,
            83351595,
            16654276,
            252981000,
            40910959
           ],
           "y": [
            "Argentina",
            "Australia",
            "Brazil",
            "Canada",
            "China",
            "Germany",
            "Spain",
            "France",
            "United Kingdom",
            "Indonesia",
            "India",
            "Italy",
            "Japan",
            "Mexico",
            "Saudi Arabia",
            "United States",
            "South Africa"
           ]
          }
         ],
         "name": "1991"
        },
        {
         "data": [
          {
           "marker": {
            "color": [
             "#aec7e8",
             "#1f77b4",
             "#9467bd",
             "#17becf",
             "#ff7f0e",
             "#8c564b",
             "#9edae5",
             "#7f7f7f",
             "#e377c2",
             "#f7b6d2",
             "#2ca02c",
             "#98df8a",
             "#bcbd22",
             "#ffbb78",
             "#c7c7c7",
             "#1f77b4",
             "#c5b0d5"
            ]
           },
           "orientation": "h",
           "type": "bar",
           "x": [
            33568285,
            17478635,
            155900790,
            28371264,
            1164970000,
            80624598,
            39157685,
            58849943,
            57580402,
            188558416,
            907574049,
            56797087,
            124425000,
            84993164,
            17281350,
            256514000,
            41760755
           ],
           "y": [
            "Argentina",
            "Australia",
            "Brazil",
            "Canada",
            "China",
            "Germany",
            "Spain",
            "France",
            "United Kingdom",
            "Indonesia",
            "India",
            "Italy",
            "Japan",
            "Mexico",
            "Saudi Arabia",
            "United States",
            "South Africa"
           ]
          }
         ],
         "name": "1992"
        },
        {
         "data": [
          {
           "marker": {
            "color": [
             "#aec7e8",
             "#1f77b4",
             "#9467bd",
             "#17becf",
             "#ff7f0e",
             "#8c564b",
             "#9edae5",
             "#7f7f7f",
             "#e377c2",
             "#f7b6d2",
             "#2ca02c",
             "#98df8a",
             "#bcbd22",
             "#ffbb78",
             "#c7c7c7",
             "#1f77b4",
             "#c5b0d5"
            ]
           },
           "orientation": "h",
           "type": "bar",
           "x": [
            34027240,
            17634808,
            158440875,
            28684764,
            1178440000,
            81156363,
            39361262,
            59106166,
            57718614,
            191737287,
            926351297,
            56831821,
            124829000,
            86648447,
            17846461,
            259919000,
            42525440
           ],
           "y": [
            "Argentina",
            "Australia",
            "Brazil",
            "Canada",
            "China",
            "Germany",
            "Spain",
            "France",
            "United Kingdom",
            "Indonesia",
            "India",
            "Italy",
            "Japan",
            "Mexico",
            "Saudi Arabia",
            "United States",
            "South Africa"
           ]
          }
         ],
         "name": "1993"
        },
        {
         "data": [
          {
           "marker": {
            "color": [
             "#aec7e8",
             "#1f77b4",
             "#9467bd",
             "#17becf",
             "#ff7f0e",
             "#8c564b",
             "#9edae5",
             "#7f7f7f",
             "#e377c2",
             "#f7b6d2",
             "#2ca02c",
             "#98df8a",
             "#bcbd22",
             "#ffbb78",
             "#c7c7c7",
             "#1f77b4",
             "#c5b0d5"
            ]
           },
           "orientation": "h",
           "type": "bar",
           "x": [
            34488696,
            17805468,
            160980472,
            29000663,
            1191835000,
            81438348,
            39549108,
            59327585,
            57865745,
            194928533,
            945261958,
            56843400,
            125178000,
            88314424,
            18367528,
            263126000,
            43267982
           ],
           "y": [
            "Argentina",
            "Australia",
            "Brazil",
            "Canada",
            "China",
            "Germany",
            "Spain",
            "France",
            "United Kingdom",
            "Indonesia",
            "India",
            "Italy",
            "Japan",
            "Mexico",
            "Saudi Arabia",
            "United States",
            "South Africa"
           ]
          }
         ],
         "name": "1994"
        },
        {
         "data": [
          {
           "marker": {
            "color": [
             "#aec7e8",
             "#1f77b4",
             "#9467bd",
             "#17becf",
             "#ff7f0e",
             "#8c564b",
             "#9edae5",
             "#7f7f7f",
             "#e377c2",
             "#f7b6d2",
             "#2ca02c",
             "#98df8a",
             "#bcbd22",
             "#ffbb78",
             "#c7c7c7",
             "#1f77b4",
             "#c5b0d5"
            ]
           },
           "orientation": "h",
           "type": "bar",
           "x": [
            34946110,
            18004882,
            163515328,
            29302311,
            1204855000,
            81678051,
            39724050,
            59543659,
            58019030,
            198140162,
            964279129,
            56844303,
            125472000,
            89969572,
            18888857,
            266278000,
            43986084
           ],
           "y": [
            "Argentina",
            "Australia",
            "Brazil",
            "Canada",
            "China",
            "Germany",
            "Spain",
            "France",
            "United Kingdom",
            "Indonesia",
            "India",
            "Italy",
            "Japan",
            "Mexico",
            "Saudi Arabia",
            "United States",
            "South Africa"
           ]
          }
         ],
         "name": "1995"
        },
        {
         "data": [
          {
           "marker": {
            "color": [
             "#aec7e8",
             "#1f77b4",
             "#9467bd",
             "#17becf",
             "#ff7f0e",
             "#8c564b",
             "#9edae5",
             "#7f7f7f",
             "#e377c2",
             "#f7b6d2",
             "#2ca02c",
             "#98df8a",
             "#bcbd22",
             "#ffbb78",
             "#c7c7c7",
             "#1f77b4",
             "#c5b0d5"
            ]
           },
           "orientation": "h",
           "type": "bar",
           "x": [
            35389362,
            18224767,
            166037122,
            29610218,
            1217550000,
            81914831,
            39889852,
            59756533,
            58166950,
            201373791,
            983281218,
            56860281,
            125757000,
            91586555,
            19410280,
            269394000,
            44661603
           ],
           "y": [
            "Argentina",
            "Australia",
            "Brazil",
            "Canada",
            "China",
            "Germany",
            "Spain",
            "France",
            "United Kingdom",
            "Indonesia",
            "India",
            "Italy",
            "Japan",
            "Mexico",
            "Saudi Arabia",
            "United States",
            "South Africa"
           ]
          }
         ],
         "name": "1996"
        },
        {
         "data": [
          {
           "marker": {
            "color": [
             "#aec7e8",
             "#1f77b4",
             "#9467bd",
             "#17becf",
             "#ff7f0e",
             "#8c564b",
             "#9edae5",
             "#7f7f7f",
             "#e377c2",
             "#f7b6d2",
             "#2ca02c",
             "#98df8a",
             "#bcbd22",
             "#ffbb78",
             "#c7c7c7",
             "#1f77b4",
             "#c5b0d5"
            ]
           },
           "orientation": "h",
           "type": "bar",
           "x": [
            35815971,
            18423037,
            168546707,
            29905948,
            1230075000,
            82034771,
            40057389,
            59969944,
            58316954,
            204628007,
            1002335230,
            56890372,
            126057000,
            93183094,
            19938377,
            272657000,
            45285048
           ],
           "y": [
            "Argentina",
            "Australia",
            "Brazil",
            "Canada",
            "China",
            "Germany",
            "Spain",
            "France",
            "United Kingdom",
            "Indonesia",
            "India",
            "Italy",
            "Japan",
            "Mexico",
            "Saudi Arabia",
            "United States",
            "South Africa"
           ]
          }
         ],
         "name": "1997"
        },
        {
         "data": [
          {
           "marker": {
            "color": [
             "#aec7e8",
             "#1f77b4",
             "#9467bd",
             "#17becf",
             "#ff7f0e",
             "#8c564b",
             "#9edae5",
             "#7f7f7f",
             "#e377c2",
             "#f7b6d2",
             "#2ca02c",
             "#98df8a",
             "#bcbd22",
             "#ffbb78",
             "#c7c7c7",
             "#1f77b4",
             "#c5b0d5"
            ]
           },
           "orientation": "h",
           "type": "bar",
           "x": [
            36233195,
            18607584,
            171039804,
            30155173,
            1241935000,
            82047195,
            40223509,
            60192790,
            58487141,
            207855486,
            1021434576,
            56906744,
            126400000,
            94767284,
            20472580,
            275854000,
            45852166
           ],
           "y": [
            "Argentina",
            "Australia",
            "Brazil",
            "Canada",
            "China",
            "Germany",
            "Spain",
            "France",
            "United Kingdom",
            "Indonesia",
            "India",
            "Italy",
            "Japan",
            "Mexico",
            "Saudi Arabia",
            "United States",
            "South Africa"
           ]
          }
         ],
         "name": "1998"
        },
        {
         "data": [
          {
           "marker": {
            "color": [
             "#aec7e8",
             "#1f77b4",
             "#9467bd",
             "#17becf",
             "#ff7f0e",
             "#8c564b",
             "#9edae5",
             "#7f7f7f",
             "#e377c2",
             "#f7b6d2",
             "#2ca02c",
             "#98df8a",
             "#bcbd22",
             "#ffbb78",
             "#c7c7c7",
             "#1f77b4",
             "#c5b0d5"
            ]
           },
           "orientation": "h",
           "type": "bar",
           "x": [
            36653031,
            18812264,
            173486281,
            30401286,
            1252735000,
            82100243,
            40386875,
            60504420,
            58682466,
            210996910,
            1040500054,
            56916317,
            126631000,
            96334810,
            21009660,
            279040000,
            46364681
           ],
           "y": [
            "Argentina",
            "Australia",
            "Brazil",
            "Canada",
            "China",
            "Germany",
            "Spain",
            "France",
            "United Kingdom",
            "Indonesia",
            "India",
            "Italy",
            "Japan",
            "Mexico",
            "Saudi Arabia",
            "United States",
            "South Africa"
           ]
          }
         ],
         "name": "1999"
        },
        {
         "data": [
          {
           "marker": {
            "color": [
             "#aec7e8",
             "#1f77b4",
             "#9467bd",
             "#17becf",
             "#ff7f0e",
             "#8c564b",
             "#9edae5",
             "#7f7f7f",
             "#e377c2",
             "#f7b6d2",
             "#2ca02c",
             "#98df8a",
             "#bcbd22",
             "#ffbb78",
             "#c7c7c7",
             "#1f77b4",
             "#c5b0d5"
            ]
           },
           "orientation": "h",
           "type": "bar",
           "x": [
            37070774,
            19028802,
            175873720,
            30685730,
            1262645000,
            82211508,
            40567864,
            60921384,
            58892514,
            214072421,
            1059633675,
            56942108,
            126843000,
            97873442,
            21547390,
            282162411,
            46813266
           ],
           "y": [
            "Argentina",
            "Australia",
            "Brazil",
            "Canada",
            "China",
            "Germany",
            "Spain",
            "France",
            "United Kingdom",
            "Indonesia",
            "India",
            "Italy",
            "Japan",
            "Mexico",
            "Saudi Arabia",
            "United States",
            "South Africa"
           ]
          }
         ],
         "name": "2000"
        },
        {
         "data": [
          {
           "marker": {
            "color": [
             "#aec7e8",
             "#1f77b4",
             "#9467bd",
             "#17becf",
             "#ff7f0e",
             "#8c564b",
             "#9edae5",
             "#7f7f7f",
             "#e377c2",
             "#f7b6d2",
             "#2ca02c",
             "#98df8a",
             "#bcbd22",
             "#ffbb78",
             "#c7c7c7",
             "#1f77b4",
             "#c5b0d5"
            ]
           },
           "orientation": "h",
           "type": "bar",
           "x": [
            37480493,
            19274701,
            178211881,
            31020855,
            1271850000,
            82349925,
            40850412,
            61367388,
            59119673,
            217112437,
            1078970907,
            56974100,
            127149000,
            99394288,
            22085929,
            284968955,
            47229714
           ],
           "y": [
            "Argentina",
            "Australia",
            "Brazil",
            "Canada",
            "China",
            "Germany",
            "Spain",
            "France",
            "United Kingdom",
            "Indonesia",
            "India",
            "Italy",
            "Japan",
            "Mexico",
            "Saudi Arabia",
            "United States",
            "South Africa"
           ]
          }
         ],
         "name": "2001"
        },
        {
         "data": [
          {
           "marker": {
            "color": [
             "#aec7e8",
             "#1f77b4",
             "#9467bd",
             "#17becf",
             "#ff7f0e",
             "#8c564b",
             "#9edae5",
             "#7f7f7f",
             "#e377c2",
             "#f7b6d2",
             "#2ca02c",
             "#98df8a",
             "#bcbd22",
             "#ffbb78",
             "#c7c7c7",
             "#1f77b4",
             "#c5b0d5"
            ]
           },
           "orientation": "h",
           "type": "bar",
           "x": [
            37885028,
            19495210,
            180476685,
            31359199,
            1280400000,
            82488495,
            41431558,
            61816234,
            59370479,
            220115092,
            1098313039,
            57059007,
            127445000,
            100917081,
            22623415,
            287625193,
            47661514
           ],
           "y": [
            "Argentina",
            "Australia",
            "Brazil",
            "Canada",
            "China",
            "Germany",
            "Spain",
            "France",
            "United Kingdom",
            "Indonesia",
            "India",
            "Italy",
            "Japan",
            "Mexico",
            "Saudi Arabia",
            "United States",
            "South Africa"
           ]
          }
         ],
         "name": "2002"
        },
        {
         "data": [
          {
           "marker": {
            "color": [
             "#aec7e8",
             "#1f77b4",
             "#9467bd",
             "#17becf",
             "#ff7f0e",
             "#8c564b",
             "#9edae5",
             "#7f7f7f",
             "#e377c2",
             "#f7b6d2",
             "#2ca02c",
             "#98df8a",
             "#bcbd22",
             "#ffbb78",
             "#c7c7c7",
             "#1f77b4",
             "#c5b0d5"
            ]
           },
           "orientation": "h",
           "type": "bar",
           "x": [
            38278164,
            19720737,
            182629278,
            31642461,
            1288400000,
            82534176,
            42187645,
            62256970,
            59647577,
            223080121,
            1117415123,
            57313203,
            127718000,
            102429341,
            23150847,
            290107933,
            48104048
           ],
           "y": [
            "Argentina",
            "Australia",
            "Brazil",
            "Canada",
            "China",
            "Germany",
            "Spain",
            "France",
            "United Kingdom",
            "Indonesia",
            "India",
            "Italy",
            "Japan",
            "Mexico",
            "Saudi Arabia",
            "United States",
            "South Africa"
           ]
          }
         ],
         "name": "2003"
        },
        {
         "data": [
          {
           "marker": {
            "color": [
             "#aec7e8",
             "#1f77b4",
             "#9467bd",
             "#17becf",
             "#ff7f0e",
             "#8c564b",
             "#9edae5",
             "#7f7f7f",
             "#e377c2",
             "#f7b6d2",
             "#2ca02c",
             "#98df8a",
             "#bcbd22",
             "#ffbb78",
             "#c7c7c7",
             "#1f77b4",
             "#c5b0d5"
            ]
           },
           "orientation": "h",
           "type": "bar",
           "x": [
            38668796,
            19932722,
            184722043,
            31938807,
            1296075000,
            82516260,
            42921895,
            62716306,
            59987905,
            225938595,
            1136264583,
            57685327,
            127761000,
            103945813,
            23661808,
            292805298,
            48556071
           ],
           "y": [
            "Argentina",
            "Australia",
            "Brazil",
            "Canada",
            "China",
            "Germany",
            "Spain",
            "France",
            "United Kingdom",
            "Indonesia",
            "India",
            "Italy",
            "Japan",
            "Mexico",
            "Saudi Arabia",
            "United States",
            "South Africa"
           ]
          }
         ],
         "name": "2004"
        },
        {
         "data": [
          {
           "marker": {
            "color": [
             "#aec7e8",
             "#1f77b4",
             "#9467bd",
             "#17becf",
             "#ff7f0e",
             "#8c564b",
             "#9edae5",
             "#7f7f7f",
             "#e377c2",
             "#f7b6d2",
             "#2ca02c",
             "#98df8a",
             "#bcbd22",
             "#ffbb78",
             "#c7c7c7",
             "#1f77b4",
             "#c5b0d5"
            ]
           },
           "orientation": "h",
           "type": "bar",
           "x": [
            39070501,
            20176844,
            186797334,
            32242732,
            1303720000,
            82469422,
            43653155,
            63188395,
            60401206,
            228805144,
            1154638713,
            57969484,
            127773000,
            105442402,
            24397644,
            295516599,
            49017147
           ],
           "y": [
            "Argentina",
            "Australia",
            "Brazil",
            "Canada",
            "China",
            "Germany",
            "Spain",
            "France",
            "United Kingdom",
            "Indonesia",
            "India",
            "Italy",
            "Japan",
            "Mexico",
            "Saudi Arabia",
            "United States",
            "South Africa"
           ]
          }
         ],
         "name": "2005"
        },
        {
         "data": [
          {
           "marker": {
            "color": [
             "#aec7e8",
             "#1f77b4",
             "#9467bd",
             "#17becf",
             "#ff7f0e",
             "#8c564b",
             "#9edae5",
             "#7f7f7f",
             "#e377c2",
             "#f7b6d2",
             "#2ca02c",
             "#98df8a",
             "#bcbd22",
             "#ffbb78",
             "#c7c7c7",
             "#1f77b4",
             "#c5b0d5"
            ]
           },
           "orientation": "h",
           "type": "bar",
           "x": [
            39476851,
            20450966,
            188820682,
            32571193,
            1311020000,
            82376451,
            44397319,
            63628261,
            60846820,
            231797427,
            1172373788,
            58143979,
            127854000,
            106886790,
            25382870,
            298379912,
            49491756
           ],
           "y": [
            "Argentina",
            "Australia",
            "Brazil",
            "Canada",
            "China",
            "Germany",
            "Spain",
            "France",
            "United Kingdom",
            "Indonesia",
            "India",
            "Italy",
            "Japan",
            "Mexico",
            "Saudi Arabia",
            "United States",
            "South Africa"
           ]
          }
         ],
         "name": "2006"
        },
        {
         "data": [
          {
           "marker": {
            "color": [
             "#aec7e8",
             "#1f77b4",
             "#9467bd",
             "#17becf",
             "#ff7f0e",
             "#8c564b",
             "#9edae5",
             "#7f7f7f",
             "#e377c2",
             "#f7b6d2",
             "#2ca02c",
             "#98df8a",
             "#bcbd22",
             "#ffbb78",
             "#c7c7c7",
             "#1f77b4",
             "#c5b0d5"
            ]
           },
           "orientation": "h",
           "type": "bar",
           "x": [
            39876111,
            20827622,
            190779453,
            32888886,
            1317885000,
            82266372,
            45226803,
            64021737,
            61322463,
            234858289,
            1189691809,
            58438310,
            128001000,
            108302973,
            26400068,
            301231207,
            49996094
           ],
           "y": [
            "Argentina",
            "Australia",
            "Brazil",
            "Canada",
            "China",
            "Germany",
            "Spain",
            "France",
            "United Kingdom",
            "Indonesia",
            "India",
            "Italy",
            "Japan",
            "Mexico",
            "Saudi Arabia",
            "United States",
            "South Africa"
           ]
          }
         ],
         "name": "2007"
        },
        {
         "data": [
          {
           "marker": {
            "color": [
             "#aec7e8",
             "#1f77b4",
             "#9467bd",
             "#17becf",
             "#ff7f0e",
             "#8c564b",
             "#9edae5",
             "#7f7f7f",
             "#e377c2",
             "#f7b6d2",
             "#2ca02c",
             "#98df8a",
             "#bcbd22",
             "#ffbb78",
             "#c7c7c7",
             "#1f77b4",
             "#c5b0d5"
            ]
           },
           "orientation": "h",
           "type": "bar",
           "x": [
            40273769,
            21249199,
            192672317,
            33247298,
            1324655000,
            82110097,
            45954106,
            64379696,
            61806995,
            237936543,
            1206734806,
            58826731,
            128063000,
            109684489,
            27437353,
            304093966,
            50565812
           ],
           "y": [
            "Argentina",
            "Australia",
            "Brazil",
            "Canada",
            "China",
            "Germany",
            "Spain",
            "France",
            "United Kingdom",
            "Indonesia",
            "India",
            "Italy",
            "Japan",
            "Mexico",
            "Saudi Arabia",
            "United States",
            "South Africa"
           ]
          }
         ],
         "name": "2008"
        },
        {
         "data": [
          {
           "marker": {
            "color": [
             "#aec7e8",
             "#1f77b4",
             "#9467bd",
             "#17becf",
             "#ff7f0e",
             "#8c564b",
             "#9edae5",
             "#7f7f7f",
             "#e377c2",
             "#f7b6d2",
             "#2ca02c",
             "#98df8a",
             "#bcbd22",
             "#ffbb78",
             "#c7c7c7",
             "#1f77b4",
             "#c5b0d5"
            ]
           },
           "orientation": "h",
           "type": "bar",
           "x": [
            40684338,
            21691653,
            194517549,
            33630069,
            1331260000,
            81902307,
            46362946,
            64710879,
            62276270,
            240981299,
            1223640160,
            59095365,
            128047000,
            111049428,
            28483797,
            306771529,
            51170779
           ],
           "y": [
            "Argentina",
            "Australia",
            "Brazil",
            "Canada",
            "China",
            "Germany",
            "Spain",
            "France",
            "United Kingdom",
            "Indonesia",
            "India",
            "Italy",
            "Japan",
            "Mexico",
            "Saudi Arabia",
            "United States",
            "South Africa"
           ]
          }
         ],
         "name": "2009"
        },
        {
         "data": [
          {
           "marker": {
            "color": [
             "#aec7e8",
             "#1f77b4",
             "#9467bd",
             "#17becf",
             "#ff7f0e",
             "#8c564b",
             "#9edae5",
             "#7f7f7f",
             "#e377c2",
             "#f7b6d2",
             "#2ca02c",
             "#98df8a",
             "#bcbd22",
             "#ffbb78",
             "#c7c7c7",
             "#1f77b4",
             "#c5b0d5"
            ]
           },
           "orientation": "h",
           "type": "bar",
           "x": [
            40788453,
            22031750,
            196353492,
            34005902,
            1337705000,
            81776930,
            46576897,
            65030575,
            62766365,
            244016173,
            1240613620,
            59277417,
            128070000,
            112532401,
            29411929,
            309327143,
            51784921
           ],
           "y": [
            "Argentina",
            "Australia",
            "Brazil",
            "Canada",
            "China",
            "Germany",
            "Spain",
            "France",
            "United Kingdom",
            "Indonesia",
            "India",
            "Italy",
            "Japan",
            "Mexico",
            "Saudi Arabia",
            "United States",
            "South Africa"
           ]
          }
         ],
         "name": "2010"
        },
        {
         "data": [
          {
           "marker": {
            "color": [
             "#aec7e8",
             "#1f77b4",
             "#9467bd",
             "#17becf",
             "#ff7f0e",
             "#8c564b",
             "#9edae5",
             "#7f7f7f",
             "#e377c2",
             "#f7b6d2",
             "#2ca02c",
             "#98df8a",
             "#bcbd22",
             "#ffbb78",
             "#c7c7c7",
             "#1f77b4",
             "#c5b0d5"
            ]
           },
           "orientation": "h",
           "type": "bar",
           "x": [
            41261490,
            22340024,
            198185302,
            34339221,
            1345035000,
            80274983,
            46742697,
            65345233,
            63258810,
            247099697,
            1257621191,
            59379449,
            127833000,
            114150481,
            30150945,
            311583481,
            52443325
           ],
           "y": [
            "Argentina",
            "Australia",
            "Brazil",
            "Canada",
            "China",
            "Germany",
            "Spain",
            "France",
            "United Kingdom",
            "Indonesia",
            "India",
            "Italy",
            "Japan",
            "Mexico",
            "Saudi Arabia",
            "United States",
            "South Africa"
           ]
          }
         ],
         "name": "2011"
        },
        {
         "data": [
          {
           "marker": {
            "color": [
             "#aec7e8",
             "#1f77b4",
             "#9467bd",
             "#17becf",
             "#ff7f0e",
             "#8c564b",
             "#9edae5",
             "#7f7f7f",
             "#e377c2",
             "#f7b6d2",
             "#2ca02c",
             "#98df8a",
             "#bcbd22",
             "#ffbb78",
             "#c7c7c7",
             "#1f77b4",
             "#c5b0d5"
            ]
           },
           "orientation": "h",
           "type": "bar",
           "x": [
            41733271,
            22733465,
            199977707,
            34713395,
            1354190000,
            80425823,
            46773055,
            65662240,
            63700215,
            250222695,
            1274487215,
            59539717,
            127629000,
            115755909,
            30821543,
            313877662,
            53145033
           ],
           "y": [
            "Argentina",
            "Australia",
            "Brazil",
            "Canada",
            "China",
            "Germany",
            "Spain",
            "France",
            "United Kingdom",
            "Indonesia",
            "India",
            "Italy",
            "Japan",
            "Mexico",
            "Saudi Arabia",
            "United States",
            "South Africa"
           ]
          }
         ],
         "name": "2012"
        },
        {
         "data": [
          {
           "marker": {
            "color": [
             "#aec7e8",
             "#1f77b4",
             "#9467bd",
             "#17becf",
             "#ff7f0e",
             "#8c564b",
             "#9edae5",
             "#7f7f7f",
             "#e377c2",
             "#f7b6d2",
             "#2ca02c",
             "#98df8a",
             "#bcbd22",
             "#ffbb78",
             "#c7c7c7",
             "#1f77b4",
             "#c5b0d5"
            ]
           },
           "orientation": "h",
           "type": "bar",
           "x": [
            42202935,
            23128129,
            201721767,
            35080992,
            1363240000,
            80645605,
            46620045,
            66002289,
            64128273,
            253275918,
            1291132063,
            60233948,
            127445000,
            117290686,
            31482498,
            316059947,
            53873616
           ],
           "y": [
            "Argentina",
            "Australia",
            "Brazil",
            "Canada",
            "China",
            "Germany",
            "Spain",
            "France",
            "United Kingdom",
            "Indonesia",
            "India",
            "Italy",
            "Japan",
            "Mexico",
            "Saudi Arabia",
            "United States",
            "South Africa"
           ]
          }
         ],
         "name": "2013"
        },
        {
         "data": [
          {
           "marker": {
            "color": [
             "#aec7e8",
             "#1f77b4",
             "#9467bd",
             "#17becf",
             "#ff7f0e",
             "#8c564b",
             "#9edae5",
             "#7f7f7f",
             "#e377c2",
             "#f7b6d2",
             "#2ca02c",
             "#98df8a",
             "#bcbd22",
             "#ffbb78",
             "#c7c7c7",
             "#1f77b4",
             "#c5b0d5"
            ]
           },
           "orientation": "h",
           "type": "bar",
           "x": [
            42669500,
            23475686,
            203459650,
            35434066,
            1371860000,
            80982500,
            46480882,
            66312067,
            64602298,
            256229761,
            1307246509,
            60789140,
            127276000,
            118755887,
            32125564,
            318386329,
            54729551
           ],
           "y": [
            "Argentina",
            "Australia",
            "Brazil",
            "Canada",
            "China",
            "Germany",
            "Spain",
            "France",
            "United Kingdom",
            "Indonesia",
            "India",
            "Italy",
            "Japan",
            "Mexico",
            "Saudi Arabia",
            "United States",
            "South Africa"
           ]
          }
         ],
         "name": "2014"
        },
        {
         "data": [
          {
           "marker": {
            "color": [
             "#aec7e8",
             "#1f77b4",
             "#9467bd",
             "#17becf",
             "#ff7f0e",
             "#8c564b",
             "#9edae5",
             "#7f7f7f",
             "#e377c2",
             "#f7b6d2",
             "#2ca02c",
             "#98df8a",
             "#bcbd22",
             "#ffbb78",
             "#c7c7c7",
             "#1f77b4",
             "#c5b0d5"
            ]
           },
           "orientation": "h",
           "type": "bar",
           "x": [
            43131966,
            23815995,
            205188205,
            35704498,
            1379860000,
            81686611,
            46444832,
            66548272,
            65116219,
            259091970,
            1322866505,
            60730582,
            127141000,
            120149897,
            32749848,
            320738994,
            55876504
           ],
           "y": [
            "Argentina",
            "Australia",
            "Brazil",
            "Canada",
            "China",
            "Germany",
            "Spain",
            "France",
            "United Kingdom",
            "Indonesia",
            "India",
            "Italy",
            "Japan",
            "Mexico",
            "Saudi Arabia",
            "United States",
            "South Africa"
           ]
          }
         ],
         "name": "2015"
        },
        {
         "data": [
          {
           "marker": {
            "color": [
             "#aec7e8",
             "#1f77b4",
             "#9467bd",
             "#17becf",
             "#ff7f0e",
             "#8c564b",
             "#9edae5",
             "#7f7f7f",
             "#e377c2",
             "#f7b6d2",
             "#2ca02c",
             "#98df8a",
             "#bcbd22",
             "#ffbb78",
             "#c7c7c7",
             "#1f77b4",
             "#c5b0d5"
            ]
           },
           "orientation": "h",
           "type": "bar",
           "x": [
            43590368,
            24190907,
            206859578,
            36110803,
            1387790000,
            82348669,
            46484062,
            66724104,
            65611593,
            261850182,
            1338636340,
            60627498,
            127076000,
            121519221,
            33416270,
            323071755,
            56422274
           ],
           "y": [
            "Argentina",
            "Australia",
            "Brazil",
            "Canada",
            "China",
            "Germany",
            "Spain",
            "France",
            "United Kingdom",
            "Indonesia",
            "India",
            "Italy",
            "Japan",
            "Mexico",
            "Saudi Arabia",
            "United States",
            "South Africa"
           ]
          }
         ],
         "name": "2016"
        },
        {
         "data": [
          {
           "marker": {
            "color": [
             "#aec7e8",
             "#1f77b4",
             "#9467bd",
             "#17becf",
             "#ff7f0e",
             "#8c564b",
             "#9edae5",
             "#7f7f7f",
             "#e377c2",
             "#f7b6d2",
             "#2ca02c",
             "#98df8a",
             "#bcbd22",
             "#ffbb78",
             "#c7c7c7",
             "#1f77b4",
             "#c5b0d5"
            ]
           },
           "orientation": "h",
           "type": "bar",
           "x": [
            44044811,
            24592588,
            208504960,
            36545075,
            1396215000,
            82657002,
            46593236,
            66918020,
            66058859,
            264498852,
            1354195680,
            60536709,
            126972000,
            122839258,
            34193122,
            325122128,
            56641209
           ],
           "y": [
            "Argentina",
            "Australia",
            "Brazil",
            "Canada",
            "China",
            "Germany",
            "Spain",
            "France",
            "United Kingdom",
            "Indonesia",
            "India",
            "Italy",
            "Japan",
            "Mexico",
            "Saudi Arabia",
            "United States",
            "South Africa"
           ]
          }
         ],
         "name": "2017"
        },
        {
         "data": [
          {
           "marker": {
            "color": [
             "#aec7e8",
             "#1f77b4",
             "#9467bd",
             "#17becf",
             "#ff7f0e",
             "#8c564b",
             "#9edae5",
             "#7f7f7f",
             "#e377c2",
             "#f7b6d2",
             "#2ca02c",
             "#98df8a",
             "#bcbd22",
             "#ffbb78",
             "#c7c7c7",
             "#1f77b4",
             "#c5b0d5"
            ]
           },
           "orientation": "h",
           "type": "bar",
           "x": [
            44494502,
            24963258,
            210166592,
            37072620,
            1402760000,
            82905782,
            46797754,
            67158348,
            66460344,
            267066843,
            1369003306,
            60421760,
            126811000,
            124013861,
            35018133,
            326838199,
            57339635
           ],
           "y": [
            "Argentina",
            "Australia",
            "Brazil",
            "Canada",
            "China",
            "Germany",
            "Spain",
            "France",
            "United Kingdom",
            "Indonesia",
            "India",
            "Italy",
            "Japan",
            "Mexico",
            "Saudi Arabia",
            "United States",
            "South Africa"
           ]
          }
         ],
         "name": "2018"
        },
        {
         "data": [
          {
           "marker": {
            "color": [
             "#aec7e8",
             "#1f77b4",
             "#9467bd",
             "#17becf",
             "#ff7f0e",
             "#8c564b",
             "#9edae5",
             "#7f7f7f",
             "#e377c2",
             "#f7b6d2",
             "#2ca02c",
             "#98df8a",
             "#bcbd22",
             "#ffbb78",
             "#c7c7c7",
             "#1f77b4",
             "#c5b0d5"
            ]
           },
           "orientation": "h",
           "type": "bar",
           "x": [
            44938712,
            25334826,
            211782878,
            37618495,
            1407745000,
            83092962,
            47134837,
            67388001,
            66836327,
            269582878,
            1383112050,
            59729081,
            126633000,
            125085311,
            35827362,
            328329953,
            58087055
           ],
           "y": [
            "Argentina",
            "Australia",
            "Brazil",
            "Canada",
            "China",
            "Germany",
            "Spain",
            "France",
            "United Kingdom",
            "Indonesia",
            "India",
            "Italy",
            "Japan",
            "Mexico",
            "Saudi Arabia",
            "United States",
            "South Africa"
           ]
          }
         ],
         "name": "2019"
        },
        {
         "data": [
          {
           "marker": {
            "color": [
             "#aec7e8",
             "#1f77b4",
             "#9467bd",
             "#17becf",
             "#ff7f0e",
             "#8c564b",
             "#9edae5",
             "#7f7f7f",
             "#e377c2",
             "#f7b6d2",
             "#2ca02c",
             "#98df8a",
             "#bcbd22",
             "#ffbb78",
             "#c7c7c7",
             "#1f77b4",
             "#c5b0d5"
            ]
           },
           "orientation": "h",
           "type": "bar",
           "x": [
            45376763,
            25649248,
            213196304,
            38028638,
            1411100000,
            83160871,
            47365655,
            67571107,
            67081234,
            271857970,
            1396387127,
            59438851,
            126261000,
            125998302,
            35997107,
            331526933,
            58801927
           ],
           "y": [
            "Argentina",
            "Australia",
            "Brazil",
            "Canada",
            "China",
            "Germany",
            "Spain",
            "France",
            "United Kingdom",
            "Indonesia",
            "India",
            "Italy",
            "Japan",
            "Mexico",
            "Saudi Arabia",
            "United States",
            "South Africa"
           ]
          }
         ],
         "name": "2020"
        },
        {
         "data": [
          {
           "marker": {
            "color": [
             "#aec7e8",
             "#1f77b4",
             "#9467bd",
             "#17becf",
             "#ff7f0e",
             "#8c564b",
             "#9edae5",
             "#7f7f7f",
             "#e377c2",
             "#f7b6d2",
             "#2ca02c",
             "#98df8a",
             "#bcbd22",
             "#ffbb78",
             "#c7c7c7",
             "#1f77b4",
             "#c5b0d5"
            ]
           },
           "orientation": "h",
           "type": "bar",
           "x": [
            45808747,
            25685412,
            214326223,
            38239864,
            1412360000,
            83196078,
            47415794,
            67764304,
            67026292,
            273753191,
            1407563842,
            59133173,
            125681593,
            126705138,
            35950396,
            332048977,
            59392255
           ],
           "y": [
            "Argentina",
            "Australia",
            "Brazil",
            "Canada",
            "China",
            "Germany",
            "Spain",
            "France",
            "United Kingdom",
            "Indonesia",
            "India",
            "Italy",
            "Japan",
            "Mexico",
            "Saudi Arabia",
            "United States",
            "South Africa"
           ]
          }
         ],
         "name": "2021"
        },
        {
         "data": [
          {
           "marker": {
            "color": [
             "#aec7e8",
             "#1f77b4",
             "#9467bd",
             "#17becf",
             "#ff7f0e",
             "#8c564b",
             "#9edae5",
             "#7f7f7f",
             "#e377c2",
             "#f7b6d2",
             "#2ca02c",
             "#98df8a",
             "#bcbd22",
             "#ffbb78",
             "#c7c7c7",
             "#1f77b4",
             "#c5b0d5"
            ]
           },
           "orientation": "h",
           "type": "bar",
           "x": [
            46234830,
            26014399,
            215313498,
            38939056,
            1412175000,
            83797985,
            47778340,
            67971311,
            67791000,
            275501339,
            1417173173,
            58940425,
            125124989,
            127504125,
            36408820,
            333271411,
            59893885
           ],
           "y": [
            "Argentina",
            "Australia",
            "Brazil",
            "Canada",
            "China",
            "Germany",
            "Spain",
            "France",
            "United Kingdom",
            "Indonesia",
            "India",
            "Italy",
            "Japan",
            "Mexico",
            "Saudi Arabia",
            "United States",
            "South Africa"
           ]
          }
         ],
         "name": "2022"
        },
        {
         "data": [
          {
           "marker": {
            "color": [
             "#aec7e8",
             "#1f77b4",
             "#9467bd",
             "#17becf",
             "#ff7f0e",
             "#8c564b",
             "#9edae5",
             "#7f7f7f",
             "#e377c2",
             "#f7b6d2",
             "#2ca02c",
             "#98df8a",
             "#bcbd22",
             "#ffbb78",
             "#c7c7c7",
             "#1f77b4",
             "#c5b0d5"
            ]
           },
           "orientation": "h",
           "type": "bar",
           "x": [
            46654581,
            26638544,
            216422446,
            40097761,
            1410710000,
            84482267,
            48373336,
            68170228,
            68350000,
            277534122,
            1428627663,
            58761146,
            124516650,
            128455567,
            36947025,
            334914895,
            60414495
           ],
           "y": [
            "Argentina",
            "Australia",
            "Brazil",
            "Canada",
            "China",
            "Germany",
            "Spain",
            "France",
            "United Kingdom",
            "Indonesia",
            "India",
            "Italy",
            "Japan",
            "Mexico",
            "Saudi Arabia",
            "United States",
            "South Africa"
           ]
          }
         ],
         "name": "2023"
        }
       ],
       "layout": {
        "bargap": 1e-30,
        "barmode": "group",
        "height": 600,
        "sliders": [
         {
          "currentvalue": {
           "font": {
            "size": 18
           },
           "prefix": "Year: "
          },
          "steps": [
           {
            "args": [
             [
              "1960"
             ],
             {
              "frame": {
               "duration": 300
              },
              "mode": "immediate"
             }
            ],
            "label": "1960",
            "method": "animate"
           },
           {
            "args": [
             [
              "1961"
             ],
             {
              "frame": {
               "duration": 300
              },
              "mode": "immediate"
             }
            ],
            "label": "1961",
            "method": "animate"
           },
           {
            "args": [
             [
              "1962"
             ],
             {
              "frame": {
               "duration": 300
              },
              "mode": "immediate"
             }
            ],
            "label": "1962",
            "method": "animate"
           },
           {
            "args": [
             [
              "1963"
             ],
             {
              "frame": {
               "duration": 300
              },
              "mode": "immediate"
             }
            ],
            "label": "1963",
            "method": "animate"
           },
           {
            "args": [
             [
              "1964"
             ],
             {
              "frame": {
               "duration": 300
              },
              "mode": "immediate"
             }
            ],
            "label": "1964",
            "method": "animate"
           },
           {
            "args": [
             [
              "1965"
             ],
             {
              "frame": {
               "duration": 300
              },
              "mode": "immediate"
             }
            ],
            "label": "1965",
            "method": "animate"
           },
           {
            "args": [
             [
              "1966"
             ],
             {
              "frame": {
               "duration": 300
              },
              "mode": "immediate"
             }
            ],
            "label": "1966",
            "method": "animate"
           },
           {
            "args": [
             [
              "1967"
             ],
             {
              "frame": {
               "duration": 300
              },
              "mode": "immediate"
             }
            ],
            "label": "1967",
            "method": "animate"
           },
           {
            "args": [
             [
              "1968"
             ],
             {
              "frame": {
               "duration": 300
              },
              "mode": "immediate"
             }
            ],
            "label": "1968",
            "method": "animate"
           },
           {
            "args": [
             [
              "1969"
             ],
             {
              "frame": {
               "duration": 300
              },
              "mode": "immediate"
             }
            ],
            "label": "1969",
            "method": "animate"
           },
           {
            "args": [
             [
              "1970"
             ],
             {
              "frame": {
               "duration": 300
              },
              "mode": "immediate"
             }
            ],
            "label": "1970",
            "method": "animate"
           },
           {
            "args": [
             [
              "1971"
             ],
             {
              "frame": {
               "duration": 300
              },
              "mode": "immediate"
             }
            ],
            "label": "1971",
            "method": "animate"
           },
           {
            "args": [
             [
              "1972"
             ],
             {
              "frame": {
               "duration": 300
              },
              "mode": "immediate"
             }
            ],
            "label": "1972",
            "method": "animate"
           },
           {
            "args": [
             [
              "1973"
             ],
             {
              "frame": {
               "duration": 300
              },
              "mode": "immediate"
             }
            ],
            "label": "1973",
            "method": "animate"
           },
           {
            "args": [
             [
              "1974"
             ],
             {
              "frame": {
               "duration": 300
              },
              "mode": "immediate"
             }
            ],
            "label": "1974",
            "method": "animate"
           },
           {
            "args": [
             [
              "1975"
             ],
             {
              "frame": {
               "duration": 300
              },
              "mode": "immediate"
             }
            ],
            "label": "1975",
            "method": "animate"
           },
           {
            "args": [
             [
              "1976"
             ],
             {
              "frame": {
               "duration": 300
              },
              "mode": "immediate"
             }
            ],
            "label": "1976",
            "method": "animate"
           },
           {
            "args": [
             [
              "1977"
             ],
             {
              "frame": {
               "duration": 300
              },
              "mode": "immediate"
             }
            ],
            "label": "1977",
            "method": "animate"
           },
           {
            "args": [
             [
              "1978"
             ],
             {
              "frame": {
               "duration": 300
              },
              "mode": "immediate"
             }
            ],
            "label": "1978",
            "method": "animate"
           },
           {
            "args": [
             [
              "1979"
             ],
             {
              "frame": {
               "duration": 300
              },
              "mode": "immediate"
             }
            ],
            "label": "1979",
            "method": "animate"
           },
           {
            "args": [
             [
              "1980"
             ],
             {
              "frame": {
               "duration": 300
              },
              "mode": "immediate"
             }
            ],
            "label": "1980",
            "method": "animate"
           },
           {
            "args": [
             [
              "1981"
             ],
             {
              "frame": {
               "duration": 300
              },
              "mode": "immediate"
             }
            ],
            "label": "1981",
            "method": "animate"
           },
           {
            "args": [
             [
              "1982"
             ],
             {
              "frame": {
               "duration": 300
              },
              "mode": "immediate"
             }
            ],
            "label": "1982",
            "method": "animate"
           },
           {
            "args": [
             [
              "1983"
             ],
             {
              "frame": {
               "duration": 300
              },
              "mode": "immediate"
             }
            ],
            "label": "1983",
            "method": "animate"
           },
           {
            "args": [
             [
              "1984"
             ],
             {
              "frame": {
               "duration": 300
              },
              "mode": "immediate"
             }
            ],
            "label": "1984",
            "method": "animate"
           },
           {
            "args": [
             [
              "1985"
             ],
             {
              "frame": {
               "duration": 300
              },
              "mode": "immediate"
             }
            ],
            "label": "1985",
            "method": "animate"
           },
           {
            "args": [
             [
              "1986"
             ],
             {
              "frame": {
               "duration": 300
              },
              "mode": "immediate"
             }
            ],
            "label": "1986",
            "method": "animate"
           },
           {
            "args": [
             [
              "1987"
             ],
             {
              "frame": {
               "duration": 300
              },
              "mode": "immediate"
             }
            ],
            "label": "1987",
            "method": "animate"
           },
           {
            "args": [
             [
              "1988"
             ],
             {
              "frame": {
               "duration": 300
              },
              "mode": "immediate"
             }
            ],
            "label": "1988",
            "method": "animate"
           },
           {
            "args": [
             [
              "1989"
             ],
             {
              "frame": {
               "duration": 300
              },
              "mode": "immediate"
             }
            ],
            "label": "1989",
            "method": "animate"
           },
           {
            "args": [
             [
              "1990"
             ],
             {
              "frame": {
               "duration": 300
              },
              "mode": "immediate"
             }
            ],
            "label": "1990",
            "method": "animate"
           },
           {
            "args": [
             [
              "1991"
             ],
             {
              "frame": {
               "duration": 300
              },
              "mode": "immediate"
             }
            ],
            "label": "1991",
            "method": "animate"
           },
           {
            "args": [
             [
              "1992"
             ],
             {
              "frame": {
               "duration": 300
              },
              "mode": "immediate"
             }
            ],
            "label": "1992",
            "method": "animate"
           },
           {
            "args": [
             [
              "1993"
             ],
             {
              "frame": {
               "duration": 300
              },
              "mode": "immediate"
             }
            ],
            "label": "1993",
            "method": "animate"
           },
           {
            "args": [
             [
              "1994"
             ],
             {
              "frame": {
               "duration": 300
              },
              "mode": "immediate"
             }
            ],
            "label": "1994",
            "method": "animate"
           },
           {
            "args": [
             [
              "1995"
             ],
             {
              "frame": {
               "duration": 300
              },
              "mode": "immediate"
             }
            ],
            "label": "1995",
            "method": "animate"
           },
           {
            "args": [
             [
              "1996"
             ],
             {
              "frame": {
               "duration": 300
              },
              "mode": "immediate"
             }
            ],
            "label": "1996",
            "method": "animate"
           },
           {
            "args": [
             [
              "1997"
             ],
             {
              "frame": {
               "duration": 300
              },
              "mode": "immediate"
             }
            ],
            "label": "1997",
            "method": "animate"
           },
           {
            "args": [
             [
              "1998"
             ],
             {
              "frame": {
               "duration": 300
              },
              "mode": "immediate"
             }
            ],
            "label": "1998",
            "method": "animate"
           },
           {
            "args": [
             [
              "1999"
             ],
             {
              "frame": {
               "duration": 300
              },
              "mode": "immediate"
             }
            ],
            "label": "1999",
            "method": "animate"
           },
           {
            "args": [
             [
              "2000"
             ],
             {
              "frame": {
               "duration": 300
              },
              "mode": "immediate"
             }
            ],
            "label": "2000",
            "method": "animate"
           },
           {
            "args": [
             [
              "2001"
             ],
             {
              "frame": {
               "duration": 300
              },
              "mode": "immediate"
             }
            ],
            "label": "2001",
            "method": "animate"
           },
           {
            "args": [
             [
              "2002"
             ],
             {
              "frame": {
               "duration": 300
              },
              "mode": "immediate"
             }
            ],
            "label": "2002",
            "method": "animate"
           },
           {
            "args": [
             [
              "2003"
             ],
             {
              "frame": {
               "duration": 300
              },
              "mode": "immediate"
             }
            ],
            "label": "2003",
            "method": "animate"
           },
           {
            "args": [
             [
              "2004"
             ],
             {
              "frame": {
               "duration": 300
              },
              "mode": "immediate"
             }
            ],
            "label": "2004",
            "method": "animate"
           },
           {
            "args": [
             [
              "2005"
             ],
             {
              "frame": {
               "duration": 300
              },
              "mode": "immediate"
             }
            ],
            "label": "2005",
            "method": "animate"
           },
           {
            "args": [
             [
              "2006"
             ],
             {
              "frame": {
               "duration": 300
              },
              "mode": "immediate"
             }
            ],
            "label": "2006",
            "method": "animate"
           },
           {
            "args": [
             [
              "2007"
             ],
             {
              "frame": {
               "duration": 300
              },
              "mode": "immediate"
             }
            ],
            "label": "2007",
            "method": "animate"
           },
           {
            "args": [
             [
              "2008"
             ],
             {
              "frame": {
               "duration": 300
              },
              "mode": "immediate"
             }
            ],
            "label": "2008",
            "method": "animate"
           },
           {
            "args": [
             [
              "2009"
             ],
             {
              "frame": {
               "duration": 300
              },
              "mode": "immediate"
             }
            ],
            "label": "2009",
            "method": "animate"
           },
           {
            "args": [
             [
              "2010"
             ],
             {
              "frame": {
               "duration": 300
              },
              "mode": "immediate"
             }
            ],
            "label": "2010",
            "method": "animate"
           },
           {
            "args": [
             [
              "2011"
             ],
             {
              "frame": {
               "duration": 300
              },
              "mode": "immediate"
             }
            ],
            "label": "2011",
            "method": "animate"
           },
           {
            "args": [
             [
              "2012"
             ],
             {
              "frame": {
               "duration": 300
              },
              "mode": "immediate"
             }
            ],
            "label": "2012",
            "method": "animate"
           },
           {
            "args": [
             [
              "2013"
             ],
             {
              "frame": {
               "duration": 300
              },
              "mode": "immediate"
             }
            ],
            "label": "2013",
            "method": "animate"
           },
           {
            "args": [
             [
              "2014"
             ],
             {
              "frame": {
               "duration": 300
              },
              "mode": "immediate"
             }
            ],
            "label": "2014",
            "method": "animate"
           },
           {
            "args": [
             [
              "2015"
             ],
             {
              "frame": {
               "duration": 300
              },
              "mode": "immediate"
             }
            ],
            "label": "2015",
            "method": "animate"
           },
           {
            "args": [
             [
              "2016"
             ],
             {
              "frame": {
               "duration": 300
              },
              "mode": "immediate"
             }
            ],
            "label": "2016",
            "method": "animate"
           },
           {
            "args": [
             [
              "2017"
             ],
             {
              "frame": {
               "duration": 300
              },
              "mode": "immediate"
             }
            ],
            "label": "2017",
            "method": "animate"
           },
           {
            "args": [
             [
              "2018"
             ],
             {
              "frame": {
               "duration": 300
              },
              "mode": "immediate"
             }
            ],
            "label": "2018",
            "method": "animate"
           },
           {
            "args": [
             [
              "2019"
             ],
             {
              "frame": {
               "duration": 300
              },
              "mode": "immediate"
             }
            ],
            "label": "2019",
            "method": "animate"
           },
           {
            "args": [
             [
              "2020"
             ],
             {
              "frame": {
               "duration": 300
              },
              "mode": "immediate"
             }
            ],
            "label": "2020",
            "method": "animate"
           },
           {
            "args": [
             [
              "2021"
             ],
             {
              "frame": {
               "duration": 300
              },
              "mode": "immediate"
             }
            ],
            "label": "2021",
            "method": "animate"
           },
           {
            "args": [
             [
              "2022"
             ],
             {
              "frame": {
               "duration": 300
              },
              "mode": "immediate"
             }
            ],
            "label": "2022",
            "method": "animate"
           },
           {
            "args": [
             [
              "2023"
             ],
             {
              "frame": {
               "duration": 300
              },
              "mode": "immediate"
             }
            ],
            "label": "2023",
            "method": "animate"
           }
          ]
         }
        ],
        "template": {
         "data": {
          "bar": [
           {
            "error_x": {
             "color": "#2a3f5f"
            },
            "error_y": {
             "color": "#2a3f5f"
            },
            "marker": {
             "line": {
              "color": "#E5ECF6",
              "width": 0.5
             },
             "pattern": {
              "fillmode": "overlay",
              "size": 10,
              "solidity": 0.2
             }
            },
            "type": "bar"
           }
          ],
          "barpolar": [
           {
            "marker": {
             "line": {
              "color": "#E5ECF6",
              "width": 0.5
             },
             "pattern": {
              "fillmode": "overlay",
              "size": 10,
              "solidity": 0.2
             }
            },
            "type": "barpolar"
           }
          ],
          "carpet": [
           {
            "aaxis": {
             "endlinecolor": "#2a3f5f",
             "gridcolor": "white",
             "linecolor": "white",
             "minorgridcolor": "white",
             "startlinecolor": "#2a3f5f"
            },
            "baxis": {
             "endlinecolor": "#2a3f5f",
             "gridcolor": "white",
             "linecolor": "white",
             "minorgridcolor": "white",
             "startlinecolor": "#2a3f5f"
            },
            "type": "carpet"
           }
          ],
          "choropleth": [
           {
            "colorbar": {
             "outlinewidth": 0,
             "ticks": ""
            },
            "type": "choropleth"
           }
          ],
          "contour": [
           {
            "colorbar": {
             "outlinewidth": 0,
             "ticks": ""
            },
            "colorscale": [
             [
              0,
              "#0d0887"
             ],
             [
              0.1111111111111111,
              "#46039f"
             ],
             [
              0.2222222222222222,
              "#7201a8"
             ],
             [
              0.3333333333333333,
              "#9c179e"
             ],
             [
              0.4444444444444444,
              "#bd3786"
             ],
             [
              0.5555555555555556,
              "#d8576b"
             ],
             [
              0.6666666666666666,
              "#ed7953"
             ],
             [
              0.7777777777777778,
              "#fb9f3a"
             ],
             [
              0.8888888888888888,
              "#fdca26"
             ],
             [
              1,
              "#f0f921"
             ]
            ],
            "type": "contour"
           }
          ],
          "contourcarpet": [
           {
            "colorbar": {
             "outlinewidth": 0,
             "ticks": ""
            },
            "type": "contourcarpet"
           }
          ],
          "heatmap": [
           {
            "colorbar": {
             "outlinewidth": 0,
             "ticks": ""
            },
            "colorscale": [
             [
              0,
              "#0d0887"
             ],
             [
              0.1111111111111111,
              "#46039f"
             ],
             [
              0.2222222222222222,
              "#7201a8"
             ],
             [
              0.3333333333333333,
              "#9c179e"
             ],
             [
              0.4444444444444444,
              "#bd3786"
             ],
             [
              0.5555555555555556,
              "#d8576b"
             ],
             [
              0.6666666666666666,
              "#ed7953"
             ],
             [
              0.7777777777777778,
              "#fb9f3a"
             ],
             [
              0.8888888888888888,
              "#fdca26"
             ],
             [
              1,
              "#f0f921"
             ]
            ],
            "type": "heatmap"
           }
          ],
          "heatmapgl": [
           {
            "colorbar": {
             "outlinewidth": 0,
             "ticks": ""
            },
            "colorscale": [
             [
              0,
              "#0d0887"
             ],
             [
              0.1111111111111111,
              "#46039f"
             ],
             [
              0.2222222222222222,
              "#7201a8"
             ],
             [
              0.3333333333333333,
              "#9c179e"
             ],
             [
              0.4444444444444444,
              "#bd3786"
             ],
             [
              0.5555555555555556,
              "#d8576b"
             ],
             [
              0.6666666666666666,
              "#ed7953"
             ],
             [
              0.7777777777777778,
              "#fb9f3a"
             ],
             [
              0.8888888888888888,
              "#fdca26"
             ],
             [
              1,
              "#f0f921"
             ]
            ],
            "type": "heatmapgl"
           }
          ],
          "histogram": [
           {
            "marker": {
             "pattern": {
              "fillmode": "overlay",
              "size": 10,
              "solidity": 0.2
             }
            },
            "type": "histogram"
           }
          ],
          "histogram2d": [
           {
            "colorbar": {
             "outlinewidth": 0,
             "ticks": ""
            },
            "colorscale": [
             [
              0,
              "#0d0887"
             ],
             [
              0.1111111111111111,
              "#46039f"
             ],
             [
              0.2222222222222222,
              "#7201a8"
             ],
             [
              0.3333333333333333,
              "#9c179e"
             ],
             [
              0.4444444444444444,
              "#bd3786"
             ],
             [
              0.5555555555555556,
              "#d8576b"
             ],
             [
              0.6666666666666666,
              "#ed7953"
             ],
             [
              0.7777777777777778,
              "#fb9f3a"
             ],
             [
              0.8888888888888888,
              "#fdca26"
             ],
             [
              1,
              "#f0f921"
             ]
            ],
            "type": "histogram2d"
           }
          ],
          "histogram2dcontour": [
           {
            "colorbar": {
             "outlinewidth": 0,
             "ticks": ""
            },
            "colorscale": [
             [
              0,
              "#0d0887"
             ],
             [
              0.1111111111111111,
              "#46039f"
             ],
             [
              0.2222222222222222,
              "#7201a8"
             ],
             [
              0.3333333333333333,
              "#9c179e"
             ],
             [
              0.4444444444444444,
              "#bd3786"
             ],
             [
              0.5555555555555556,
              "#d8576b"
             ],
             [
              0.6666666666666666,
              "#ed7953"
             ],
             [
              0.7777777777777778,
              "#fb9f3a"
             ],
             [
              0.8888888888888888,
              "#fdca26"
             ],
             [
              1,
              "#f0f921"
             ]
            ],
            "type": "histogram2dcontour"
           }
          ],
          "mesh3d": [
           {
            "colorbar": {
             "outlinewidth": 0,
             "ticks": ""
            },
            "type": "mesh3d"
           }
          ],
          "parcoords": [
           {
            "line": {
             "colorbar": {
              "outlinewidth": 0,
              "ticks": ""
             }
            },
            "type": "parcoords"
           }
          ],
          "pie": [
           {
            "automargin": true,
            "type": "pie"
           }
          ],
          "scatter": [
           {
            "fillpattern": {
             "fillmode": "overlay",
             "size": 10,
             "solidity": 0.2
            },
            "type": "scatter"
           }
          ],
          "scatter3d": [
           {
            "line": {
             "colorbar": {
              "outlinewidth": 0,
              "ticks": ""
             }
            },
            "marker": {
             "colorbar": {
              "outlinewidth": 0,
              "ticks": ""
             }
            },
            "type": "scatter3d"
           }
          ],
          "scattercarpet": [
           {
            "marker": {
             "colorbar": {
              "outlinewidth": 0,
              "ticks": ""
             }
            },
            "type": "scattercarpet"
           }
          ],
          "scattergeo": [
           {
            "marker": {
             "colorbar": {
              "outlinewidth": 0,
              "ticks": ""
             }
            },
            "type": "scattergeo"
           }
          ],
          "scattergl": [
           {
            "marker": {
             "colorbar": {
              "outlinewidth": 0,
              "ticks": ""
             }
            },
            "type": "scattergl"
           }
          ],
          "scattermapbox": [
           {
            "marker": {
             "colorbar": {
              "outlinewidth": 0,
              "ticks": ""
             }
            },
            "type": "scattermapbox"
           }
          ],
          "scatterpolar": [
           {
            "marker": {
             "colorbar": {
              "outlinewidth": 0,
              "ticks": ""
             }
            },
            "type": "scatterpolar"
           }
          ],
          "scatterpolargl": [
           {
            "marker": {
             "colorbar": {
              "outlinewidth": 0,
              "ticks": ""
             }
            },
            "type": "scatterpolargl"
           }
          ],
          "scatterternary": [
           {
            "marker": {
             "colorbar": {
              "outlinewidth": 0,
              "ticks": ""
             }
            },
            "type": "scatterternary"
           }
          ],
          "surface": [
           {
            "colorbar": {
             "outlinewidth": 0,
             "ticks": ""
            },
            "colorscale": [
             [
              0,
              "#0d0887"
             ],
             [
              0.1111111111111111,
              "#46039f"
             ],
             [
              0.2222222222222222,
              "#7201a8"
             ],
             [
              0.3333333333333333,
              "#9c179e"
             ],
             [
              0.4444444444444444,
              "#bd3786"
             ],
             [
              0.5555555555555556,
              "#d8576b"
             ],
             [
              0.6666666666666666,
              "#ed7953"
             ],
             [
              0.7777777777777778,
              "#fb9f3a"
             ],
             [
              0.8888888888888888,
              "#fdca26"
             ],
             [
              1,
              "#f0f921"
             ]
            ],
            "type": "surface"
           }
          ],
          "table": [
           {
            "cells": {
             "fill": {
              "color": "#EBF0F8"
             },
             "line": {
              "color": "white"
             }
            },
            "header": {
             "fill": {
              "color": "#C8D4E3"
             },
             "line": {
              "color": "white"
             }
            },
            "type": "table"
           }
          ]
         },
         "layout": {
          "annotationdefaults": {
           "arrowcolor": "#2a3f5f",
           "arrowhead": 0,
           "arrowwidth": 1
          },
          "autotypenumbers": "strict",
          "coloraxis": {
           "colorbar": {
            "outlinewidth": 0,
            "ticks": ""
           }
          },
          "colorscale": {
           "diverging": [
            [
             0,
             "#8e0152"
            ],
            [
             0.1,
             "#c51b7d"
            ],
            [
             0.2,
             "#de77ae"
            ],
            [
             0.3,
             "#f1b6da"
            ],
            [
             0.4,
             "#fde0ef"
            ],
            [
             0.5,
             "#f7f7f7"
            ],
            [
             0.6,
             "#e6f5d0"
            ],
            [
             0.7,
             "#b8e186"
            ],
            [
             0.8,
             "#7fbc41"
            ],
            [
             0.9,
             "#4d9221"
            ],
            [
             1,
             "#276419"
            ]
           ],
           "sequential": [
            [
             0,
             "#0d0887"
            ],
            [
             0.1111111111111111,
             "#46039f"
            ],
            [
             0.2222222222222222,
             "#7201a8"
            ],
            [
             0.3333333333333333,
             "#9c179e"
            ],
            [
             0.4444444444444444,
             "#bd3786"
            ],
            [
             0.5555555555555556,
             "#d8576b"
            ],
            [
             0.6666666666666666,
             "#ed7953"
            ],
            [
             0.7777777777777778,
             "#fb9f3a"
            ],
            [
             0.8888888888888888,
             "#fdca26"
            ],
            [
             1,
             "#f0f921"
            ]
           ],
           "sequentialminus": [
            [
             0,
             "#0d0887"
            ],
            [
             0.1111111111111111,
             "#46039f"
            ],
            [
             0.2222222222222222,
             "#7201a8"
            ],
            [
             0.3333333333333333,
             "#9c179e"
            ],
            [
             0.4444444444444444,
             "#bd3786"
            ],
            [
             0.5555555555555556,
             "#d8576b"
            ],
            [
             0.6666666666666666,
             "#ed7953"
            ],
            [
             0.7777777777777778,
             "#fb9f3a"
            ],
            [
             0.8888888888888888,
             "#fdca26"
            ],
            [
             1,
             "#f0f921"
            ]
           ]
          },
          "colorway": [
           "#636efa",
           "#EF553B",
           "#00cc96",
           "#ab63fa",
           "#FFA15A",
           "#19d3f3",
           "#FF6692",
           "#B6E880",
           "#FF97FF",
           "#FECB52"
          ],
          "font": {
           "color": "#2a3f5f"
          },
          "geo": {
           "bgcolor": "white",
           "lakecolor": "white",
           "landcolor": "#E5ECF6",
           "showlakes": true,
           "showland": true,
           "subunitcolor": "white"
          },
          "hoverlabel": {
           "align": "left"
          },
          "hovermode": "closest",
          "mapbox": {
           "style": "light"
          },
          "paper_bgcolor": "white",
          "plot_bgcolor": "#E5ECF6",
          "polar": {
           "angularaxis": {
            "gridcolor": "white",
            "linecolor": "white",
            "ticks": ""
           },
           "bgcolor": "#E5ECF6",
           "radialaxis": {
            "gridcolor": "white",
            "linecolor": "white",
            "ticks": ""
           }
          },
          "scene": {
           "xaxis": {
            "backgroundcolor": "#E5ECF6",
            "gridcolor": "white",
            "gridwidth": 2,
            "linecolor": "white",
            "showbackground": true,
            "ticks": "",
            "zerolinecolor": "white"
           },
           "yaxis": {
            "backgroundcolor": "#E5ECF6",
            "gridcolor": "white",
            "gridwidth": 2,
            "linecolor": "white",
            "showbackground": true,
            "ticks": "",
            "zerolinecolor": "white"
           },
           "zaxis": {
            "backgroundcolor": "#E5ECF6",
            "gridcolor": "white",
            "gridwidth": 2,
            "linecolor": "white",
            "showbackground": true,
            "ticks": "",
            "zerolinecolor": "white"
           }
          },
          "shapedefaults": {
           "line": {
            "color": "#2a3f5f"
           }
          },
          "ternary": {
           "aaxis": {
            "gridcolor": "white",
            "linecolor": "white",
            "ticks": ""
           },
           "baxis": {
            "gridcolor": "white",
            "linecolor": "white",
            "ticks": ""
           },
           "bgcolor": "#E5ECF6",
           "caxis": {
            "gridcolor": "white",
            "linecolor": "white",
            "ticks": ""
           }
          },
          "title": {
           "x": 0.05
          },
          "xaxis": {
           "automargin": true,
           "gridcolor": "white",
           "linecolor": "white",
           "ticks": "",
           "title": {
            "standoff": 15
           },
           "zerolinecolor": "white",
           "zerolinewidth": 2
          },
          "yaxis": {
           "automargin": true,
           "gridcolor": "white",
           "linecolor": "white",
           "ticks": "",
           "title": {
            "standoff": 15
           },
           "zerolinecolor": "white",
           "zerolinewidth": 2
          }
         }
        },
        "title": {
         "text": "Population of Well-Known Countries (1960-2023)"
        },
        "updatemenus": [
         {
          "buttons": [
           {
            "args": [
             null,
             {
              "frame": {
               "duration": 300,
               "redraw": true
              },
              "fromcurrent": true
             }
            ],
            "label": "Play",
            "method": "animate"
           }
          ],
          "direction": "right",
          "pad": {
           "r": 10,
           "t": 70
          },
          "type": "buttons",
          "x": -0.2,
          "xanchor": "left",
          "y": 0.1,
          "yanchor": "top"
         },
         {
          "buttons": [
           {
            "args": [
             [
              null
             ],
             {
              "frame": {
               "duration": 0,
               "redraw": true
              },
              "mode": "immediate"
             }
            ],
            "label": "Pause",
            "method": "animate"
           }
          ],
          "direction": "right",
          "pad": {
           "r": 10,
           "t": 70
          },
          "type": "buttons",
          "x": -0.1,
          "xanchor": "left",
          "y": 0.1,
          "yanchor": "top"
         }
        ],
        "xaxis": {
         "title": {
          "text": "Population"
         }
        },
        "yaxis": {
         "title": {
          "text": "Countries"
         }
        }
       }
      }
     },
     "metadata": {},
     "output_type": "display_data"
    }
   ],
   "source": [
    "fig.show()"
   ]
  }
 ],
 "metadata": {
  "kernelspec": {
   "display_name": "Python 3",
   "language": "python",
   "name": "python3"
  },
  "language_info": {
   "codemirror_mode": {
    "name": "ipython",
    "version": 3
   },
   "file_extension": ".py",
   "mimetype": "text/x-python",
   "name": "python",
   "nbconvert_exporter": "python",
   "pygments_lexer": "ipython3",
   "version": "3.13.1"
  }
 },
 "nbformat": 4,
 "nbformat_minor": 2
}
